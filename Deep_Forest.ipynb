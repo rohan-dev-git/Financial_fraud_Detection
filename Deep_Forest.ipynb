{
  "nbformat": 4,
  "nbformat_minor": 0,
  "metadata": {
    "colab": {
      "provenance": []
    },
    "kernelspec": {
      "name": "python3",
      "display_name": "Python 3"
    },
    "language_info": {
      "name": "python"
    },
    "gpuClass": "standard",
    "accelerator": "GPU"
  },
  "cells": [
    {
      "cell_type": "markdown",
      "source": [
        "Deep Forest:\n",
        "https://github.com/LAMDA-NJU/Deep-Forest"
      ],
      "metadata": {
        "id": "9NHzStHWBh1b"
      }
    },
    {
      "cell_type": "markdown",
      "source": [
        "\n",
        "# **Installing the deep-forest library**\n",
        "\n",
        "\n"
      ],
      "metadata": {
        "id": "DZNl71eoDjgu"
      }
    },
    {
      "cell_type": "code",
      "source": [
        "pip install deep-forest"
      ],
      "metadata": {
        "colab": {
          "base_uri": "https://localhost:8080/"
        },
        "id": "h_uhId_xBpIX",
        "outputId": "ad7fb407-19af-4db2-df7d-279b54bd5cec"
      },
      "execution_count": null,
      "outputs": [
        {
          "output_type": "stream",
          "name": "stdout",
          "text": [
            "Looking in indexes: https://pypi.org/simple, https://us-python.pkg.dev/colab-wheels/public/simple/\n",
            "Collecting deep-forest\n",
            "  Downloading deep_forest-0.1.7-cp38-cp38-manylinux2010_x86_64.whl (2.8 MB)\n",
            "\u001b[K     |████████████████████████████████| 2.8 MB 9.0 MB/s \n",
            "\u001b[?25hRequirement already satisfied: numpy>=1.14.6 in /usr/local/lib/python3.8/dist-packages (from deep-forest) (1.21.6)\n",
            "Requirement already satisfied: joblib>=0.11 in /usr/local/lib/python3.8/dist-packages (from deep-forest) (1.2.0)\n",
            "Requirement already satisfied: scikit-learn>=1.0 in /usr/local/lib/python3.8/dist-packages (from deep-forest) (1.0.2)\n",
            "Requirement already satisfied: scipy>=1.1.0 in /usr/local/lib/python3.8/dist-packages (from deep-forest) (1.7.3)\n",
            "Requirement already satisfied: threadpoolctl>=2.0.0 in /usr/local/lib/python3.8/dist-packages (from scikit-learn>=1.0->deep-forest) (3.1.0)\n",
            "Installing collected packages: deep-forest\n",
            "Successfully installed deep-forest-0.1.7\n"
          ]
        }
      ]
    },
    {
      "cell_type": "markdown",
      "source": [
        "# **Importing the Dataset**"
      ],
      "metadata": {
        "id": "gx8xz0BcDqp_"
      }
    },
    {
      "cell_type": "code",
      "source": [
        "import pandas as pd\n",
        "from google.colab import drive\n",
        "\n",
        "drive.mount('/content/gdrive/')"
      ],
      "metadata": {
        "colab": {
          "base_uri": "https://localhost:8080/"
        },
        "id": "iRsYJrhxB2hc",
        "outputId": "d4b4d942-82a6-405e-ac36-ff70ea13845d"
      },
      "execution_count": null,
      "outputs": [
        {
          "output_type": "stream",
          "name": "stdout",
          "text": [
            "Mounted at /content/gdrive/\n"
          ]
        }
      ]
    },
    {
      "cell_type": "code",
      "source": [
        "df = pd.read_csv(\"/content/gdrive/MyDrive/ML_Project_research/creditcard.csv\")"
      ],
      "metadata": {
        "id": "LTy3frKNCNwK"
      },
      "execution_count": null,
      "outputs": []
    },
    {
      "cell_type": "markdown",
      "source": [
        "# **Exploratory Data Analysis**"
      ],
      "metadata": {
        "id": "ZvGWtDN7Du69"
      }
    },
    {
      "cell_type": "code",
      "source": [
        "df.head()"
      ],
      "metadata": {
        "colab": {
          "base_uri": "https://localhost:8080/",
          "height": 236
        },
        "id": "omc_y9ApDTOj",
        "outputId": "f461ee10-9854-4023-f4a1-8c6f1f4a5fd3"
      },
      "execution_count": null,
      "outputs": [
        {
          "output_type": "execute_result",
          "data": {
            "text/plain": [
              "   Time        V1        V2        V3        V4        V5        V6        V7  \\\n",
              "0   0.0 -1.359807 -0.072781  2.536347  1.378155 -0.338321  0.462388  0.239599   \n",
              "1   0.0  1.191857  0.266151  0.166480  0.448154  0.060018 -0.082361 -0.078803   \n",
              "2   1.0 -1.358354 -1.340163  1.773209  0.379780 -0.503198  1.800499  0.791461   \n",
              "3   1.0 -0.966272 -0.185226  1.792993 -0.863291 -0.010309  1.247203  0.237609   \n",
              "4   2.0 -1.158233  0.877737  1.548718  0.403034 -0.407193  0.095921  0.592941   \n",
              "\n",
              "         V8        V9  ...       V21       V22       V23       V24       V25  \\\n",
              "0  0.098698  0.363787  ... -0.018307  0.277838 -0.110474  0.066928  0.128539   \n",
              "1  0.085102 -0.255425  ... -0.225775 -0.638672  0.101288 -0.339846  0.167170   \n",
              "2  0.247676 -1.514654  ...  0.247998  0.771679  0.909412 -0.689281 -0.327642   \n",
              "3  0.377436 -1.387024  ... -0.108300  0.005274 -0.190321 -1.175575  0.647376   \n",
              "4 -0.270533  0.817739  ... -0.009431  0.798278 -0.137458  0.141267 -0.206010   \n",
              "\n",
              "        V26       V27       V28  Amount  Class  \n",
              "0 -0.189115  0.133558 -0.021053  149.62      0  \n",
              "1  0.125895 -0.008983  0.014724    2.69      0  \n",
              "2 -0.139097 -0.055353 -0.059752  378.66      0  \n",
              "3 -0.221929  0.062723  0.061458  123.50      0  \n",
              "4  0.502292  0.219422  0.215153   69.99      0  \n",
              "\n",
              "[5 rows x 31 columns]"
            ],
            "text/html": [
              "\n",
              "  <div id=\"df-04542dd6-8f8e-4d42-83c9-f4020c548c87\">\n",
              "    <div class=\"colab-df-container\">\n",
              "      <div>\n",
              "<style scoped>\n",
              "    .dataframe tbody tr th:only-of-type {\n",
              "        vertical-align: middle;\n",
              "    }\n",
              "\n",
              "    .dataframe tbody tr th {\n",
              "        vertical-align: top;\n",
              "    }\n",
              "\n",
              "    .dataframe thead th {\n",
              "        text-align: right;\n",
              "    }\n",
              "</style>\n",
              "<table border=\"1\" class=\"dataframe\">\n",
              "  <thead>\n",
              "    <tr style=\"text-align: right;\">\n",
              "      <th></th>\n",
              "      <th>Time</th>\n",
              "      <th>V1</th>\n",
              "      <th>V2</th>\n",
              "      <th>V3</th>\n",
              "      <th>V4</th>\n",
              "      <th>V5</th>\n",
              "      <th>V6</th>\n",
              "      <th>V7</th>\n",
              "      <th>V8</th>\n",
              "      <th>V9</th>\n",
              "      <th>...</th>\n",
              "      <th>V21</th>\n",
              "      <th>V22</th>\n",
              "      <th>V23</th>\n",
              "      <th>V24</th>\n",
              "      <th>V25</th>\n",
              "      <th>V26</th>\n",
              "      <th>V27</th>\n",
              "      <th>V28</th>\n",
              "      <th>Amount</th>\n",
              "      <th>Class</th>\n",
              "    </tr>\n",
              "  </thead>\n",
              "  <tbody>\n",
              "    <tr>\n",
              "      <th>0</th>\n",
              "      <td>0.0</td>\n",
              "      <td>-1.359807</td>\n",
              "      <td>-0.072781</td>\n",
              "      <td>2.536347</td>\n",
              "      <td>1.378155</td>\n",
              "      <td>-0.338321</td>\n",
              "      <td>0.462388</td>\n",
              "      <td>0.239599</td>\n",
              "      <td>0.098698</td>\n",
              "      <td>0.363787</td>\n",
              "      <td>...</td>\n",
              "      <td>-0.018307</td>\n",
              "      <td>0.277838</td>\n",
              "      <td>-0.110474</td>\n",
              "      <td>0.066928</td>\n",
              "      <td>0.128539</td>\n",
              "      <td>-0.189115</td>\n",
              "      <td>0.133558</td>\n",
              "      <td>-0.021053</td>\n",
              "      <td>149.62</td>\n",
              "      <td>0</td>\n",
              "    </tr>\n",
              "    <tr>\n",
              "      <th>1</th>\n",
              "      <td>0.0</td>\n",
              "      <td>1.191857</td>\n",
              "      <td>0.266151</td>\n",
              "      <td>0.166480</td>\n",
              "      <td>0.448154</td>\n",
              "      <td>0.060018</td>\n",
              "      <td>-0.082361</td>\n",
              "      <td>-0.078803</td>\n",
              "      <td>0.085102</td>\n",
              "      <td>-0.255425</td>\n",
              "      <td>...</td>\n",
              "      <td>-0.225775</td>\n",
              "      <td>-0.638672</td>\n",
              "      <td>0.101288</td>\n",
              "      <td>-0.339846</td>\n",
              "      <td>0.167170</td>\n",
              "      <td>0.125895</td>\n",
              "      <td>-0.008983</td>\n",
              "      <td>0.014724</td>\n",
              "      <td>2.69</td>\n",
              "      <td>0</td>\n",
              "    </tr>\n",
              "    <tr>\n",
              "      <th>2</th>\n",
              "      <td>1.0</td>\n",
              "      <td>-1.358354</td>\n",
              "      <td>-1.340163</td>\n",
              "      <td>1.773209</td>\n",
              "      <td>0.379780</td>\n",
              "      <td>-0.503198</td>\n",
              "      <td>1.800499</td>\n",
              "      <td>0.791461</td>\n",
              "      <td>0.247676</td>\n",
              "      <td>-1.514654</td>\n",
              "      <td>...</td>\n",
              "      <td>0.247998</td>\n",
              "      <td>0.771679</td>\n",
              "      <td>0.909412</td>\n",
              "      <td>-0.689281</td>\n",
              "      <td>-0.327642</td>\n",
              "      <td>-0.139097</td>\n",
              "      <td>-0.055353</td>\n",
              "      <td>-0.059752</td>\n",
              "      <td>378.66</td>\n",
              "      <td>0</td>\n",
              "    </tr>\n",
              "    <tr>\n",
              "      <th>3</th>\n",
              "      <td>1.0</td>\n",
              "      <td>-0.966272</td>\n",
              "      <td>-0.185226</td>\n",
              "      <td>1.792993</td>\n",
              "      <td>-0.863291</td>\n",
              "      <td>-0.010309</td>\n",
              "      <td>1.247203</td>\n",
              "      <td>0.237609</td>\n",
              "      <td>0.377436</td>\n",
              "      <td>-1.387024</td>\n",
              "      <td>...</td>\n",
              "      <td>-0.108300</td>\n",
              "      <td>0.005274</td>\n",
              "      <td>-0.190321</td>\n",
              "      <td>-1.175575</td>\n",
              "      <td>0.647376</td>\n",
              "      <td>-0.221929</td>\n",
              "      <td>0.062723</td>\n",
              "      <td>0.061458</td>\n",
              "      <td>123.50</td>\n",
              "      <td>0</td>\n",
              "    </tr>\n",
              "    <tr>\n",
              "      <th>4</th>\n",
              "      <td>2.0</td>\n",
              "      <td>-1.158233</td>\n",
              "      <td>0.877737</td>\n",
              "      <td>1.548718</td>\n",
              "      <td>0.403034</td>\n",
              "      <td>-0.407193</td>\n",
              "      <td>0.095921</td>\n",
              "      <td>0.592941</td>\n",
              "      <td>-0.270533</td>\n",
              "      <td>0.817739</td>\n",
              "      <td>...</td>\n",
              "      <td>-0.009431</td>\n",
              "      <td>0.798278</td>\n",
              "      <td>-0.137458</td>\n",
              "      <td>0.141267</td>\n",
              "      <td>-0.206010</td>\n",
              "      <td>0.502292</td>\n",
              "      <td>0.219422</td>\n",
              "      <td>0.215153</td>\n",
              "      <td>69.99</td>\n",
              "      <td>0</td>\n",
              "    </tr>\n",
              "  </tbody>\n",
              "</table>\n",
              "<p>5 rows × 31 columns</p>\n",
              "</div>\n",
              "      <button class=\"colab-df-convert\" onclick=\"convertToInteractive('df-04542dd6-8f8e-4d42-83c9-f4020c548c87')\"\n",
              "              title=\"Convert this dataframe to an interactive table.\"\n",
              "              style=\"display:none;\">\n",
              "        \n",
              "  <svg xmlns=\"http://www.w3.org/2000/svg\" height=\"24px\"viewBox=\"0 0 24 24\"\n",
              "       width=\"24px\">\n",
              "    <path d=\"M0 0h24v24H0V0z\" fill=\"none\"/>\n",
              "    <path d=\"M18.56 5.44l.94 2.06.94-2.06 2.06-.94-2.06-.94-.94-2.06-.94 2.06-2.06.94zm-11 1L8.5 8.5l.94-2.06 2.06-.94-2.06-.94L8.5 2.5l-.94 2.06-2.06.94zm10 10l.94 2.06.94-2.06 2.06-.94-2.06-.94-.94-2.06-.94 2.06-2.06.94z\"/><path d=\"M17.41 7.96l-1.37-1.37c-.4-.4-.92-.59-1.43-.59-.52 0-1.04.2-1.43.59L10.3 9.45l-7.72 7.72c-.78.78-.78 2.05 0 2.83L4 21.41c.39.39.9.59 1.41.59.51 0 1.02-.2 1.41-.59l7.78-7.78 2.81-2.81c.8-.78.8-2.07 0-2.86zM5.41 20L4 18.59l7.72-7.72 1.47 1.35L5.41 20z\"/>\n",
              "  </svg>\n",
              "      </button>\n",
              "      \n",
              "  <style>\n",
              "    .colab-df-container {\n",
              "      display:flex;\n",
              "      flex-wrap:wrap;\n",
              "      gap: 12px;\n",
              "    }\n",
              "\n",
              "    .colab-df-convert {\n",
              "      background-color: #E8F0FE;\n",
              "      border: none;\n",
              "      border-radius: 50%;\n",
              "      cursor: pointer;\n",
              "      display: none;\n",
              "      fill: #1967D2;\n",
              "      height: 32px;\n",
              "      padding: 0 0 0 0;\n",
              "      width: 32px;\n",
              "    }\n",
              "\n",
              "    .colab-df-convert:hover {\n",
              "      background-color: #E2EBFA;\n",
              "      box-shadow: 0px 1px 2px rgba(60, 64, 67, 0.3), 0px 1px 3px 1px rgba(60, 64, 67, 0.15);\n",
              "      fill: #174EA6;\n",
              "    }\n",
              "\n",
              "    [theme=dark] .colab-df-convert {\n",
              "      background-color: #3B4455;\n",
              "      fill: #D2E3FC;\n",
              "    }\n",
              "\n",
              "    [theme=dark] .colab-df-convert:hover {\n",
              "      background-color: #434B5C;\n",
              "      box-shadow: 0px 1px 3px 1px rgba(0, 0, 0, 0.15);\n",
              "      filter: drop-shadow(0px 1px 2px rgba(0, 0, 0, 0.3));\n",
              "      fill: #FFFFFF;\n",
              "    }\n",
              "  </style>\n",
              "\n",
              "      <script>\n",
              "        const buttonEl =\n",
              "          document.querySelector('#df-04542dd6-8f8e-4d42-83c9-f4020c548c87 button.colab-df-convert');\n",
              "        buttonEl.style.display =\n",
              "          google.colab.kernel.accessAllowed ? 'block' : 'none';\n",
              "\n",
              "        async function convertToInteractive(key) {\n",
              "          const element = document.querySelector('#df-04542dd6-8f8e-4d42-83c9-f4020c548c87');\n",
              "          const dataTable =\n",
              "            await google.colab.kernel.invokeFunction('convertToInteractive',\n",
              "                                                     [key], {});\n",
              "          if (!dataTable) return;\n",
              "\n",
              "          const docLinkHtml = 'Like what you see? Visit the ' +\n",
              "            '<a target=\"_blank\" href=https://colab.research.google.com/notebooks/data_table.ipynb>data table notebook</a>'\n",
              "            + ' to learn more about interactive tables.';\n",
              "          element.innerHTML = '';\n",
              "          dataTable['output_type'] = 'display_data';\n",
              "          await google.colab.output.renderOutput(dataTable, element);\n",
              "          const docLink = document.createElement('div');\n",
              "          docLink.innerHTML = docLinkHtml;\n",
              "          element.appendChild(docLink);\n",
              "        }\n",
              "      </script>\n",
              "    </div>\n",
              "  </div>\n",
              "  "
            ]
          },
          "metadata": {},
          "execution_count": 5
        }
      ]
    },
    {
      "cell_type": "code",
      "source": [
        "df.info()"
      ],
      "metadata": {
        "colab": {
          "base_uri": "https://localhost:8080/"
        },
        "id": "SfDA23B9Db2U",
        "outputId": "917a5dcc-d7e3-4cec-ce06-47b98b4b2c30"
      },
      "execution_count": null,
      "outputs": [
        {
          "output_type": "stream",
          "name": "stdout",
          "text": [
            "<class 'pandas.core.frame.DataFrame'>\n",
            "RangeIndex: 284807 entries, 0 to 284806\n",
            "Data columns (total 31 columns):\n",
            " #   Column  Non-Null Count   Dtype  \n",
            "---  ------  --------------   -----  \n",
            " 0   Time    284807 non-null  float64\n",
            " 1   V1      284807 non-null  float64\n",
            " 2   V2      284807 non-null  float64\n",
            " 3   V3      284807 non-null  float64\n",
            " 4   V4      284807 non-null  float64\n",
            " 5   V5      284807 non-null  float64\n",
            " 6   V6      284807 non-null  float64\n",
            " 7   V7      284807 non-null  float64\n",
            " 8   V8      284807 non-null  float64\n",
            " 9   V9      284807 non-null  float64\n",
            " 10  V10     284807 non-null  float64\n",
            " 11  V11     284807 non-null  float64\n",
            " 12  V12     284807 non-null  float64\n",
            " 13  V13     284807 non-null  float64\n",
            " 14  V14     284807 non-null  float64\n",
            " 15  V15     284807 non-null  float64\n",
            " 16  V16     284807 non-null  float64\n",
            " 17  V17     284807 non-null  float64\n",
            " 18  V18     284807 non-null  float64\n",
            " 19  V19     284807 non-null  float64\n",
            " 20  V20     284807 non-null  float64\n",
            " 21  V21     284807 non-null  float64\n",
            " 22  V22     284807 non-null  float64\n",
            " 23  V23     284807 non-null  float64\n",
            " 24  V24     284807 non-null  float64\n",
            " 25  V25     284807 non-null  float64\n",
            " 26  V26     284807 non-null  float64\n",
            " 27  V27     284807 non-null  float64\n",
            " 28  V28     284807 non-null  float64\n",
            " 29  Amount  284807 non-null  float64\n",
            " 30  Class   284807 non-null  int64  \n",
            "dtypes: float64(30), int64(1)\n",
            "memory usage: 67.4 MB\n"
          ]
        }
      ]
    },
    {
      "cell_type": "code",
      "source": [
        "df.describe()"
      ],
      "metadata": {
        "colab": {
          "base_uri": "https://localhost:8080/",
          "height": 374
        },
        "id": "dQI8olyfDeqb",
        "outputId": "3e9a36f7-b332-446c-d4b8-e6a277a82274"
      },
      "execution_count": null,
      "outputs": [
        {
          "output_type": "execute_result",
          "data": {
            "text/plain": [
              "                Time            V1            V2            V3            V4  \\\n",
              "count  284807.000000  2.848070e+05  2.848070e+05  2.848070e+05  2.848070e+05   \n",
              "mean    94813.859575  1.168375e-15  3.416908e-16 -1.379537e-15  2.074095e-15   \n",
              "std     47488.145955  1.958696e+00  1.651309e+00  1.516255e+00  1.415869e+00   \n",
              "min         0.000000 -5.640751e+01 -7.271573e+01 -4.832559e+01 -5.683171e+00   \n",
              "25%     54201.500000 -9.203734e-01 -5.985499e-01 -8.903648e-01 -8.486401e-01   \n",
              "50%     84692.000000  1.810880e-02  6.548556e-02  1.798463e-01 -1.984653e-02   \n",
              "75%    139320.500000  1.315642e+00  8.037239e-01  1.027196e+00  7.433413e-01   \n",
              "max    172792.000000  2.454930e+00  2.205773e+01  9.382558e+00  1.687534e+01   \n",
              "\n",
              "                 V5            V6            V7            V8            V9  \\\n",
              "count  2.848070e+05  2.848070e+05  2.848070e+05  2.848070e+05  2.848070e+05   \n",
              "mean   9.604066e-16  1.487313e-15 -5.556467e-16  1.213481e-16 -2.406331e-15   \n",
              "std    1.380247e+00  1.332271e+00  1.237094e+00  1.194353e+00  1.098632e+00   \n",
              "min   -1.137433e+02 -2.616051e+01 -4.355724e+01 -7.321672e+01 -1.343407e+01   \n",
              "25%   -6.915971e-01 -7.682956e-01 -5.540759e-01 -2.086297e-01 -6.430976e-01   \n",
              "50%   -5.433583e-02 -2.741871e-01  4.010308e-02  2.235804e-02 -5.142873e-02   \n",
              "75%    6.119264e-01  3.985649e-01  5.704361e-01  3.273459e-01  5.971390e-01   \n",
              "max    3.480167e+01  7.330163e+01  1.205895e+02  2.000721e+01  1.559499e+01   \n",
              "\n",
              "       ...           V21           V22           V23           V24  \\\n",
              "count  ...  2.848070e+05  2.848070e+05  2.848070e+05  2.848070e+05   \n",
              "mean   ...  1.654067e-16 -3.568593e-16  2.578648e-16  4.473266e-15   \n",
              "std    ...  7.345240e-01  7.257016e-01  6.244603e-01  6.056471e-01   \n",
              "min    ... -3.483038e+01 -1.093314e+01 -4.480774e+01 -2.836627e+00   \n",
              "25%    ... -2.283949e-01 -5.423504e-01 -1.618463e-01 -3.545861e-01   \n",
              "50%    ... -2.945017e-02  6.781943e-03 -1.119293e-02  4.097606e-02   \n",
              "75%    ...  1.863772e-01  5.285536e-01  1.476421e-01  4.395266e-01   \n",
              "max    ...  2.720284e+01  1.050309e+01  2.252841e+01  4.584549e+00   \n",
              "\n",
              "                V25           V26           V27           V28         Amount  \\\n",
              "count  2.848070e+05  2.848070e+05  2.848070e+05  2.848070e+05  284807.000000   \n",
              "mean   5.340915e-16  1.683437e-15 -3.660091e-16 -1.227390e-16      88.349619   \n",
              "std    5.212781e-01  4.822270e-01  4.036325e-01  3.300833e-01     250.120109   \n",
              "min   -1.029540e+01 -2.604551e+00 -2.256568e+01 -1.543008e+01       0.000000   \n",
              "25%   -3.171451e-01 -3.269839e-01 -7.083953e-02 -5.295979e-02       5.600000   \n",
              "50%    1.659350e-02 -5.213911e-02  1.342146e-03  1.124383e-02      22.000000   \n",
              "75%    3.507156e-01  2.409522e-01  9.104512e-02  7.827995e-02      77.165000   \n",
              "max    7.519589e+00  3.517346e+00  3.161220e+01  3.384781e+01   25691.160000   \n",
              "\n",
              "               Class  \n",
              "count  284807.000000  \n",
              "mean        0.001727  \n",
              "std         0.041527  \n",
              "min         0.000000  \n",
              "25%         0.000000  \n",
              "50%         0.000000  \n",
              "75%         0.000000  \n",
              "max         1.000000  \n",
              "\n",
              "[8 rows x 31 columns]"
            ],
            "text/html": [
              "\n",
              "  <div id=\"df-adcc3fc8-1928-4c8b-9d7a-2e6500e6de38\">\n",
              "    <div class=\"colab-df-container\">\n",
              "      <div>\n",
              "<style scoped>\n",
              "    .dataframe tbody tr th:only-of-type {\n",
              "        vertical-align: middle;\n",
              "    }\n",
              "\n",
              "    .dataframe tbody tr th {\n",
              "        vertical-align: top;\n",
              "    }\n",
              "\n",
              "    .dataframe thead th {\n",
              "        text-align: right;\n",
              "    }\n",
              "</style>\n",
              "<table border=\"1\" class=\"dataframe\">\n",
              "  <thead>\n",
              "    <tr style=\"text-align: right;\">\n",
              "      <th></th>\n",
              "      <th>Time</th>\n",
              "      <th>V1</th>\n",
              "      <th>V2</th>\n",
              "      <th>V3</th>\n",
              "      <th>V4</th>\n",
              "      <th>V5</th>\n",
              "      <th>V6</th>\n",
              "      <th>V7</th>\n",
              "      <th>V8</th>\n",
              "      <th>V9</th>\n",
              "      <th>...</th>\n",
              "      <th>V21</th>\n",
              "      <th>V22</th>\n",
              "      <th>V23</th>\n",
              "      <th>V24</th>\n",
              "      <th>V25</th>\n",
              "      <th>V26</th>\n",
              "      <th>V27</th>\n",
              "      <th>V28</th>\n",
              "      <th>Amount</th>\n",
              "      <th>Class</th>\n",
              "    </tr>\n",
              "  </thead>\n",
              "  <tbody>\n",
              "    <tr>\n",
              "      <th>count</th>\n",
              "      <td>284807.000000</td>\n",
              "      <td>2.848070e+05</td>\n",
              "      <td>2.848070e+05</td>\n",
              "      <td>2.848070e+05</td>\n",
              "      <td>2.848070e+05</td>\n",
              "      <td>2.848070e+05</td>\n",
              "      <td>2.848070e+05</td>\n",
              "      <td>2.848070e+05</td>\n",
              "      <td>2.848070e+05</td>\n",
              "      <td>2.848070e+05</td>\n",
              "      <td>...</td>\n",
              "      <td>2.848070e+05</td>\n",
              "      <td>2.848070e+05</td>\n",
              "      <td>2.848070e+05</td>\n",
              "      <td>2.848070e+05</td>\n",
              "      <td>2.848070e+05</td>\n",
              "      <td>2.848070e+05</td>\n",
              "      <td>2.848070e+05</td>\n",
              "      <td>2.848070e+05</td>\n",
              "      <td>284807.000000</td>\n",
              "      <td>284807.000000</td>\n",
              "    </tr>\n",
              "    <tr>\n",
              "      <th>mean</th>\n",
              "      <td>94813.859575</td>\n",
              "      <td>1.168375e-15</td>\n",
              "      <td>3.416908e-16</td>\n",
              "      <td>-1.379537e-15</td>\n",
              "      <td>2.074095e-15</td>\n",
              "      <td>9.604066e-16</td>\n",
              "      <td>1.487313e-15</td>\n",
              "      <td>-5.556467e-16</td>\n",
              "      <td>1.213481e-16</td>\n",
              "      <td>-2.406331e-15</td>\n",
              "      <td>...</td>\n",
              "      <td>1.654067e-16</td>\n",
              "      <td>-3.568593e-16</td>\n",
              "      <td>2.578648e-16</td>\n",
              "      <td>4.473266e-15</td>\n",
              "      <td>5.340915e-16</td>\n",
              "      <td>1.683437e-15</td>\n",
              "      <td>-3.660091e-16</td>\n",
              "      <td>-1.227390e-16</td>\n",
              "      <td>88.349619</td>\n",
              "      <td>0.001727</td>\n",
              "    </tr>\n",
              "    <tr>\n",
              "      <th>std</th>\n",
              "      <td>47488.145955</td>\n",
              "      <td>1.958696e+00</td>\n",
              "      <td>1.651309e+00</td>\n",
              "      <td>1.516255e+00</td>\n",
              "      <td>1.415869e+00</td>\n",
              "      <td>1.380247e+00</td>\n",
              "      <td>1.332271e+00</td>\n",
              "      <td>1.237094e+00</td>\n",
              "      <td>1.194353e+00</td>\n",
              "      <td>1.098632e+00</td>\n",
              "      <td>...</td>\n",
              "      <td>7.345240e-01</td>\n",
              "      <td>7.257016e-01</td>\n",
              "      <td>6.244603e-01</td>\n",
              "      <td>6.056471e-01</td>\n",
              "      <td>5.212781e-01</td>\n",
              "      <td>4.822270e-01</td>\n",
              "      <td>4.036325e-01</td>\n",
              "      <td>3.300833e-01</td>\n",
              "      <td>250.120109</td>\n",
              "      <td>0.041527</td>\n",
              "    </tr>\n",
              "    <tr>\n",
              "      <th>min</th>\n",
              "      <td>0.000000</td>\n",
              "      <td>-5.640751e+01</td>\n",
              "      <td>-7.271573e+01</td>\n",
              "      <td>-4.832559e+01</td>\n",
              "      <td>-5.683171e+00</td>\n",
              "      <td>-1.137433e+02</td>\n",
              "      <td>-2.616051e+01</td>\n",
              "      <td>-4.355724e+01</td>\n",
              "      <td>-7.321672e+01</td>\n",
              "      <td>-1.343407e+01</td>\n",
              "      <td>...</td>\n",
              "      <td>-3.483038e+01</td>\n",
              "      <td>-1.093314e+01</td>\n",
              "      <td>-4.480774e+01</td>\n",
              "      <td>-2.836627e+00</td>\n",
              "      <td>-1.029540e+01</td>\n",
              "      <td>-2.604551e+00</td>\n",
              "      <td>-2.256568e+01</td>\n",
              "      <td>-1.543008e+01</td>\n",
              "      <td>0.000000</td>\n",
              "      <td>0.000000</td>\n",
              "    </tr>\n",
              "    <tr>\n",
              "      <th>25%</th>\n",
              "      <td>54201.500000</td>\n",
              "      <td>-9.203734e-01</td>\n",
              "      <td>-5.985499e-01</td>\n",
              "      <td>-8.903648e-01</td>\n",
              "      <td>-8.486401e-01</td>\n",
              "      <td>-6.915971e-01</td>\n",
              "      <td>-7.682956e-01</td>\n",
              "      <td>-5.540759e-01</td>\n",
              "      <td>-2.086297e-01</td>\n",
              "      <td>-6.430976e-01</td>\n",
              "      <td>...</td>\n",
              "      <td>-2.283949e-01</td>\n",
              "      <td>-5.423504e-01</td>\n",
              "      <td>-1.618463e-01</td>\n",
              "      <td>-3.545861e-01</td>\n",
              "      <td>-3.171451e-01</td>\n",
              "      <td>-3.269839e-01</td>\n",
              "      <td>-7.083953e-02</td>\n",
              "      <td>-5.295979e-02</td>\n",
              "      <td>5.600000</td>\n",
              "      <td>0.000000</td>\n",
              "    </tr>\n",
              "    <tr>\n",
              "      <th>50%</th>\n",
              "      <td>84692.000000</td>\n",
              "      <td>1.810880e-02</td>\n",
              "      <td>6.548556e-02</td>\n",
              "      <td>1.798463e-01</td>\n",
              "      <td>-1.984653e-02</td>\n",
              "      <td>-5.433583e-02</td>\n",
              "      <td>-2.741871e-01</td>\n",
              "      <td>4.010308e-02</td>\n",
              "      <td>2.235804e-02</td>\n",
              "      <td>-5.142873e-02</td>\n",
              "      <td>...</td>\n",
              "      <td>-2.945017e-02</td>\n",
              "      <td>6.781943e-03</td>\n",
              "      <td>-1.119293e-02</td>\n",
              "      <td>4.097606e-02</td>\n",
              "      <td>1.659350e-02</td>\n",
              "      <td>-5.213911e-02</td>\n",
              "      <td>1.342146e-03</td>\n",
              "      <td>1.124383e-02</td>\n",
              "      <td>22.000000</td>\n",
              "      <td>0.000000</td>\n",
              "    </tr>\n",
              "    <tr>\n",
              "      <th>75%</th>\n",
              "      <td>139320.500000</td>\n",
              "      <td>1.315642e+00</td>\n",
              "      <td>8.037239e-01</td>\n",
              "      <td>1.027196e+00</td>\n",
              "      <td>7.433413e-01</td>\n",
              "      <td>6.119264e-01</td>\n",
              "      <td>3.985649e-01</td>\n",
              "      <td>5.704361e-01</td>\n",
              "      <td>3.273459e-01</td>\n",
              "      <td>5.971390e-01</td>\n",
              "      <td>...</td>\n",
              "      <td>1.863772e-01</td>\n",
              "      <td>5.285536e-01</td>\n",
              "      <td>1.476421e-01</td>\n",
              "      <td>4.395266e-01</td>\n",
              "      <td>3.507156e-01</td>\n",
              "      <td>2.409522e-01</td>\n",
              "      <td>9.104512e-02</td>\n",
              "      <td>7.827995e-02</td>\n",
              "      <td>77.165000</td>\n",
              "      <td>0.000000</td>\n",
              "    </tr>\n",
              "    <tr>\n",
              "      <th>max</th>\n",
              "      <td>172792.000000</td>\n",
              "      <td>2.454930e+00</td>\n",
              "      <td>2.205773e+01</td>\n",
              "      <td>9.382558e+00</td>\n",
              "      <td>1.687534e+01</td>\n",
              "      <td>3.480167e+01</td>\n",
              "      <td>7.330163e+01</td>\n",
              "      <td>1.205895e+02</td>\n",
              "      <td>2.000721e+01</td>\n",
              "      <td>1.559499e+01</td>\n",
              "      <td>...</td>\n",
              "      <td>2.720284e+01</td>\n",
              "      <td>1.050309e+01</td>\n",
              "      <td>2.252841e+01</td>\n",
              "      <td>4.584549e+00</td>\n",
              "      <td>7.519589e+00</td>\n",
              "      <td>3.517346e+00</td>\n",
              "      <td>3.161220e+01</td>\n",
              "      <td>3.384781e+01</td>\n",
              "      <td>25691.160000</td>\n",
              "      <td>1.000000</td>\n",
              "    </tr>\n",
              "  </tbody>\n",
              "</table>\n",
              "<p>8 rows × 31 columns</p>\n",
              "</div>\n",
              "      <button class=\"colab-df-convert\" onclick=\"convertToInteractive('df-adcc3fc8-1928-4c8b-9d7a-2e6500e6de38')\"\n",
              "              title=\"Convert this dataframe to an interactive table.\"\n",
              "              style=\"display:none;\">\n",
              "        \n",
              "  <svg xmlns=\"http://www.w3.org/2000/svg\" height=\"24px\"viewBox=\"0 0 24 24\"\n",
              "       width=\"24px\">\n",
              "    <path d=\"M0 0h24v24H0V0z\" fill=\"none\"/>\n",
              "    <path d=\"M18.56 5.44l.94 2.06.94-2.06 2.06-.94-2.06-.94-.94-2.06-.94 2.06-2.06.94zm-11 1L8.5 8.5l.94-2.06 2.06-.94-2.06-.94L8.5 2.5l-.94 2.06-2.06.94zm10 10l.94 2.06.94-2.06 2.06-.94-2.06-.94-.94-2.06-.94 2.06-2.06.94z\"/><path d=\"M17.41 7.96l-1.37-1.37c-.4-.4-.92-.59-1.43-.59-.52 0-1.04.2-1.43.59L10.3 9.45l-7.72 7.72c-.78.78-.78 2.05 0 2.83L4 21.41c.39.39.9.59 1.41.59.51 0 1.02-.2 1.41-.59l7.78-7.78 2.81-2.81c.8-.78.8-2.07 0-2.86zM5.41 20L4 18.59l7.72-7.72 1.47 1.35L5.41 20z\"/>\n",
              "  </svg>\n",
              "      </button>\n",
              "      \n",
              "  <style>\n",
              "    .colab-df-container {\n",
              "      display:flex;\n",
              "      flex-wrap:wrap;\n",
              "      gap: 12px;\n",
              "    }\n",
              "\n",
              "    .colab-df-convert {\n",
              "      background-color: #E8F0FE;\n",
              "      border: none;\n",
              "      border-radius: 50%;\n",
              "      cursor: pointer;\n",
              "      display: none;\n",
              "      fill: #1967D2;\n",
              "      height: 32px;\n",
              "      padding: 0 0 0 0;\n",
              "      width: 32px;\n",
              "    }\n",
              "\n",
              "    .colab-df-convert:hover {\n",
              "      background-color: #E2EBFA;\n",
              "      box-shadow: 0px 1px 2px rgba(60, 64, 67, 0.3), 0px 1px 3px 1px rgba(60, 64, 67, 0.15);\n",
              "      fill: #174EA6;\n",
              "    }\n",
              "\n",
              "    [theme=dark] .colab-df-convert {\n",
              "      background-color: #3B4455;\n",
              "      fill: #D2E3FC;\n",
              "    }\n",
              "\n",
              "    [theme=dark] .colab-df-convert:hover {\n",
              "      background-color: #434B5C;\n",
              "      box-shadow: 0px 1px 3px 1px rgba(0, 0, 0, 0.15);\n",
              "      filter: drop-shadow(0px 1px 2px rgba(0, 0, 0, 0.3));\n",
              "      fill: #FFFFFF;\n",
              "    }\n",
              "  </style>\n",
              "\n",
              "      <script>\n",
              "        const buttonEl =\n",
              "          document.querySelector('#df-adcc3fc8-1928-4c8b-9d7a-2e6500e6de38 button.colab-df-convert');\n",
              "        buttonEl.style.display =\n",
              "          google.colab.kernel.accessAllowed ? 'block' : 'none';\n",
              "\n",
              "        async function convertToInteractive(key) {\n",
              "          const element = document.querySelector('#df-adcc3fc8-1928-4c8b-9d7a-2e6500e6de38');\n",
              "          const dataTable =\n",
              "            await google.colab.kernel.invokeFunction('convertToInteractive',\n",
              "                                                     [key], {});\n",
              "          if (!dataTable) return;\n",
              "\n",
              "          const docLinkHtml = 'Like what you see? Visit the ' +\n",
              "            '<a target=\"_blank\" href=https://colab.research.google.com/notebooks/data_table.ipynb>data table notebook</a>'\n",
              "            + ' to learn more about interactive tables.';\n",
              "          element.innerHTML = '';\n",
              "          dataTable['output_type'] = 'display_data';\n",
              "          await google.colab.output.renderOutput(dataTable, element);\n",
              "          const docLink = document.createElement('div');\n",
              "          docLink.innerHTML = docLinkHtml;\n",
              "          element.appendChild(docLink);\n",
              "        }\n",
              "      </script>\n",
              "    </div>\n",
              "  </div>\n",
              "  "
            ]
          },
          "metadata": {},
          "execution_count": 7
        }
      ]
    },
    {
      "cell_type": "code",
      "source": [
        "import matplotlib.pyplot as plt\n",
        "import seaborn as sns\n",
        "plt.figure(figsize=(50,40))\n",
        "sns.heatmap(df.corr(),cmap=plt.cm.Reds,annot=True)\n",
        "plt.title('Heatmap displaying the relationship between the features of the data',\n",
        "         fontsize=13)\n",
        "plt.show()"
      ],
      "metadata": {
        "colab": {
          "base_uri": "https://localhost:8080/",
          "height": 1000
        },
        "id": "ZkJYsShnDyeS",
        "outputId": "0d5ec8a0-f00f-45d3-97e8-1a2b742d4d39"
      },
      "execution_count": null,
      "outputs": [
        {
          "output_type": "display_data",
          "data": {
            "text/plain": [
              "<Figure size 3600x2880 with 2 Axes>"
            ],
            "image/png": "[encoded data removed]"
          },
          "metadata": {
            "needs_background": "light"
          }
        }
      ]
    },
    {
      "cell_type": "code",
      "source": [],
      "metadata": {
        "id": "hVKbr3_KAWR-"
      },
      "execution_count": null,
      "outputs": []
    },
    {
      "cell_type": "code",
      "source": [
        "X = df.loc[:,'Time':'Amount']\n",
        "Y= df.iloc[:,-1]"
      ],
      "metadata": {
        "id": "PLcXYU1mEfCl"
      },
      "execution_count": null,
      "outputs": []
    },
    {
      "cell_type": "code",
      "source": [
        "X"
      ],
      "metadata": {
        "colab": {
          "base_uri": "https://localhost:8080/",
          "height": 488
        },
        "id": "LxnlPS6ZExhf",
        "outputId": "fd518c14-d0d7-4e9c-ebca-f1d33e1398a9"
      },
      "execution_count": null,
      "outputs": [
        {
          "output_type": "execute_result",
          "data": {
            "text/plain": [
              "            Time         V1         V2        V3        V4        V5  \\\n",
              "0            0.0  -1.359807  -0.072781  2.536347  1.378155 -0.338321   \n",
              "1            0.0   1.191857   0.266151  0.166480  0.448154  0.060018   \n",
              "2            1.0  -1.358354  -1.340163  1.773209  0.379780 -0.503198   \n",
              "3            1.0  -0.966272  -0.185226  1.792993 -0.863291 -0.010309   \n",
              "4            2.0  -1.158233   0.877737  1.548718  0.403034 -0.407193   \n",
              "...          ...        ...        ...       ...       ...       ...   \n",
              "284802  172786.0 -11.881118  10.071785 -9.834783 -2.066656 -5.364473   \n",
              "284803  172787.0  -0.732789  -0.055080  2.035030 -0.738589  0.868229   \n",
              "284804  172788.0   1.919565  -0.301254 -3.249640 -0.557828  2.630515   \n",
              "284805  172788.0  -0.240440   0.530483  0.702510  0.689799 -0.377961   \n",
              "284806  172792.0  -0.533413  -0.189733  0.703337 -0.506271 -0.012546   \n",
              "\n",
              "              V6        V7        V8        V9  ...       V20       V21  \\\n",
              "0       0.462388  0.239599  0.098698  0.363787  ...  0.251412 -0.018307   \n",
              "1      -0.082361 -0.078803  0.085102 -0.255425  ... -0.069083 -0.225775   \n",
              "2       1.800499  0.791461  0.247676 -1.514654  ...  0.524980  0.247998   \n",
              "3       1.247203  0.237609  0.377436 -1.387024  ... -0.208038 -0.108300   \n",
              "4       0.095921  0.592941 -0.270533  0.817739  ...  0.408542 -0.009431   \n",
              "...          ...       ...       ...       ...  ...       ...       ...   \n",
              "284802 -2.606837 -4.918215  7.305334  1.914428  ...  1.475829  0.213454   \n",
              "284803  1.058415  0.024330  0.294869  0.584800  ...  0.059616  0.214205   \n",
              "284804  3.031260 -0.296827  0.708417  0.432454  ...  0.001396  0.232045   \n",
              "284805  0.623708 -0.686180  0.679145  0.392087  ...  0.127434  0.265245   \n",
              "284806 -0.649617  1.577006 -0.414650  0.486180  ...  0.382948  0.261057   \n",
              "\n",
              "             V22       V23       V24       V25       V26       V27       V28  \\\n",
              "0       0.277838 -0.110474  0.066928  0.128539 -0.189115  0.133558 -0.021053   \n",
              "1      -0.638672  0.101288 -0.339846  0.167170  0.125895 -0.008983  0.014724   \n",
              "2       0.771679  0.909412 -0.689281 -0.327642 -0.139097 -0.055353 -0.059752   \n",
              "3       0.005274 -0.190321 -1.175575  0.647376 -0.221929  0.062723  0.061458   \n",
              "4       0.798278 -0.137458  0.141267 -0.206010  0.502292  0.219422  0.215153   \n",
              "...          ...       ...       ...       ...       ...       ...       ...   \n",
              "284802  0.111864  1.014480 -0.509348  1.436807  0.250034  0.943651  0.823731   \n",
              "284803  0.924384  0.012463 -1.016226 -0.606624 -0.395255  0.068472 -0.053527   \n",
              "284804  0.578229 -0.037501  0.640134  0.265745 -0.087371  0.004455 -0.026561   \n",
              "284805  0.800049 -0.163298  0.123205 -0.569159  0.546668  0.108821  0.104533   \n",
              "284806  0.643078  0.376777  0.008797 -0.473649 -0.818267 -0.002415  0.013649   \n",
              "\n",
              "        Amount  \n",
              "0       149.62  \n",
              "1         2.69  \n",
              "2       378.66  \n",
              "3       123.50  \n",
              "4        69.99  \n",
              "...        ...  \n",
              "284802    0.77  \n",
              "284803   24.79  \n",
              "284804   67.88  \n",
              "284805   10.00  \n",
              "284806  217.00  \n",
              "\n",
              "[284807 rows x 30 columns]"
            ],
            "text/html": [
              "\n",
              "  <div id=\"df-dd952056-ac53-42de-b8e2-3e6cb5e88204\">\n",
              "    <div class=\"colab-df-container\">\n",
              "      <div>\n",
              "<style scoped>\n",
              "    .dataframe tbody tr th:only-of-type {\n",
              "        vertical-align: middle;\n",
              "    }\n",
              "\n",
              "    .dataframe tbody tr th {\n",
              "        vertical-align: top;\n",
              "    }\n",
              "\n",
              "    .dataframe thead th {\n",
              "        text-align: right;\n",
              "    }\n",
              "</style>\n",
              "<table border=\"1\" class=\"dataframe\">\n",
              "  <thead>\n",
              "    <tr style=\"text-align: right;\">\n",
              "      <th></th>\n",
              "      <th>Time</th>\n",
              "      <th>V1</th>\n",
              "      <th>V2</th>\n",
              "      <th>V3</th>\n",
              "      <th>V4</th>\n",
              "      <th>V5</th>\n",
              "      <th>V6</th>\n",
              "      <th>V7</th>\n",
              "      <th>V8</th>\n",
              "      <th>V9</th>\n",
              "      <th>...</th>\n",
              "      <th>V20</th>\n",
              "      <th>V21</th>\n",
              "      <th>V22</th>\n",
              "      <th>V23</th>\n",
              "      <th>V24</th>\n",
              "      <th>V25</th>\n",
              "      <th>V26</th>\n",
              "      <th>V27</th>\n",
              "      <th>V28</th>\n",
              "      <th>Amount</th>\n",
              "    </tr>\n",
              "  </thead>\n",
              "  <tbody>\n",
              "    <tr>\n",
              "      <th>0</th>\n",
              "      <td>0.0</td>\n",
              "      <td>-1.359807</td>\n",
              "      <td>-0.072781</td>\n",
              "      <td>2.536347</td>\n",
              "      <td>1.378155</td>\n",
              "      <td>-0.338321</td>\n",
              "      <td>0.462388</td>\n",
              "      <td>0.239599</td>\n",
              "      <td>0.098698</td>\n",
              "      <td>0.363787</td>\n",
              "      <td>...</td>\n",
              "      <td>0.251412</td>\n",
              "      <td>-0.018307</td>\n",
              "      <td>0.277838</td>\n",
              "      <td>-0.110474</td>\n",
              "      <td>0.066928</td>\n",
              "      <td>0.128539</td>\n",
              "      <td>-0.189115</td>\n",
              "      <td>0.133558</td>\n",
              "      <td>-0.021053</td>\n",
              "      <td>149.62</td>\n",
              "    </tr>\n",
              "    <tr>\n",
              "      <th>1</th>\n",
              "      <td>0.0</td>\n",
              "      <td>1.191857</td>\n",
              "      <td>0.266151</td>\n",
              "      <td>0.166480</td>\n",
              "      <td>0.448154</td>\n",
              "      <td>0.060018</td>\n",
              "      <td>-0.082361</td>\n",
              "      <td>-0.078803</td>\n",
              "      <td>0.085102</td>\n",
              "      <td>-0.255425</td>\n",
              "      <td>...</td>\n",
              "      <td>-0.069083</td>\n",
              "      <td>-0.225775</td>\n",
              "      <td>-0.638672</td>\n",
              "      <td>0.101288</td>\n",
              "      <td>-0.339846</td>\n",
              "      <td>0.167170</td>\n",
              "      <td>0.125895</td>\n",
              "      <td>-0.008983</td>\n",
              "      <td>0.014724</td>\n",
              "      <td>2.69</td>\n",
              "    </tr>\n",
              "    <tr>\n",
              "      <th>2</th>\n",
              "      <td>1.0</td>\n",
              "      <td>-1.358354</td>\n",
              "      <td>-1.340163</td>\n",
              "      <td>1.773209</td>\n",
              "      <td>0.379780</td>\n",
              "      <td>-0.503198</td>\n",
              "      <td>1.800499</td>\n",
              "      <td>0.791461</td>\n",
              "      <td>0.247676</td>\n",
              "      <td>-1.514654</td>\n",
              "      <td>...</td>\n",
              "      <td>0.524980</td>\n",
              "      <td>0.247998</td>\n",
              "      <td>0.771679</td>\n",
              "      <td>0.909412</td>\n",
              "      <td>-0.689281</td>\n",
              "      <td>-0.327642</td>\n",
              "      <td>-0.139097</td>\n",
              "      <td>-0.055353</td>\n",
              "      <td>-0.059752</td>\n",
              "      <td>378.66</td>\n",
              "    </tr>\n",
              "    <tr>\n",
              "      <th>3</th>\n",
              "      <td>1.0</td>\n",
              "      <td>-0.966272</td>\n",
              "      <td>-0.185226</td>\n",
              "      <td>1.792993</td>\n",
              "      <td>-0.863291</td>\n",
              "      <td>-0.010309</td>\n",
              "      <td>1.247203</td>\n",
              "      <td>0.237609</td>\n",
              "      <td>0.377436</td>\n",
              "      <td>-1.387024</td>\n",
              "      <td>...</td>\n",
              "      <td>-0.208038</td>\n",
              "      <td>-0.108300</td>\n",
              "      <td>0.005274</td>\n",
              "      <td>-0.190321</td>\n",
              "      <td>-1.175575</td>\n",
              "      <td>0.647376</td>\n",
              "      <td>-0.221929</td>\n",
              "      <td>0.062723</td>\n",
              "      <td>0.061458</td>\n",
              "      <td>123.50</td>\n",
              "    </tr>\n",
              "    <tr>\n",
              "      <th>4</th>\n",
              "      <td>2.0</td>\n",
              "      <td>-1.158233</td>\n",
              "      <td>0.877737</td>\n",
              "      <td>1.548718</td>\n",
              "      <td>0.403034</td>\n",
              "      <td>-0.407193</td>\n",
              "      <td>0.095921</td>\n",
              "      <td>0.592941</td>\n",
              "      <td>-0.270533</td>\n",
              "      <td>0.817739</td>\n",
              "      <td>...</td>\n",
              "      <td>0.408542</td>\n",
              "      <td>-0.009431</td>\n",
              "      <td>0.798278</td>\n",
              "      <td>-0.137458</td>\n",
              "      <td>0.141267</td>\n",
              "      <td>-0.206010</td>\n",
              "      <td>0.502292</td>\n",
              "      <td>0.219422</td>\n",
              "      <td>0.215153</td>\n",
              "      <td>69.99</td>\n",
              "    </tr>\n",
              "    <tr>\n",
              "      <th>...</th>\n",
              "      <td>...</td>\n",
              "      <td>...</td>\n",
              "      <td>...</td>\n",
              "      <td>...</td>\n",
              "      <td>...</td>\n",
              "      <td>...</td>\n",
              "      <td>...</td>\n",
              "      <td>...</td>\n",
              "      <td>...</td>\n",
              "      <td>...</td>\n",
              "      <td>...</td>\n",
              "      <td>...</td>\n",
              "      <td>...</td>\n",
              "      <td>...</td>\n",
              "      <td>...</td>\n",
              "      <td>...</td>\n",
              "      <td>...</td>\n",
              "      <td>...</td>\n",
              "      <td>...</td>\n",
              "      <td>...</td>\n",
              "      <td>...</td>\n",
              "    </tr>\n",
              "    <tr>\n",
              "      <th>284802</th>\n",
              "      <td>172786.0</td>\n",
              "      <td>-11.881118</td>\n",
              "      <td>10.071785</td>\n",
              "      <td>-9.834783</td>\n",
              "      <td>-2.066656</td>\n",
              "      <td>-5.364473</td>\n",
              "      <td>-2.606837</td>\n",
              "      <td>-4.918215</td>\n",
              "      <td>7.305334</td>\n",
              "      <td>1.914428</td>\n",
              "      <td>...</td>\n",
              "      <td>1.475829</td>\n",
              "      <td>0.213454</td>\n",
              "      <td>0.111864</td>\n",
              "      <td>1.014480</td>\n",
              "      <td>-0.509348</td>\n",
              "      <td>1.436807</td>\n",
              "      <td>0.250034</td>\n",
              "      <td>0.943651</td>\n",
              "      <td>0.823731</td>\n",
              "      <td>0.77</td>\n",
              "    </tr>\n",
              "    <tr>\n",
              "      <th>284803</th>\n",
              "      <td>172787.0</td>\n",
              "      <td>-0.732789</td>\n",
              "      <td>-0.055080</td>\n",
              "      <td>2.035030</td>\n",
              "      <td>-0.738589</td>\n",
              "      <td>0.868229</td>\n",
              "      <td>1.058415</td>\n",
              "      <td>0.024330</td>\n",
              "      <td>0.294869</td>\n",
              "      <td>0.584800</td>\n",
              "      <td>...</td>\n",
              "      <td>0.059616</td>\n",
              "      <td>0.214205</td>\n",
              "      <td>0.924384</td>\n",
              "      <td>0.012463</td>\n",
              "      <td>-1.016226</td>\n",
              "      <td>-0.606624</td>\n",
              "      <td>-0.395255</td>\n",
              "      <td>0.068472</td>\n",
              "      <td>-0.053527</td>\n",
              "      <td>24.79</td>\n",
              "    </tr>\n",
              "    <tr>\n",
              "      <th>284804</th>\n",
              "      <td>172788.0</td>\n",
              "      <td>1.919565</td>\n",
              "      <td>-0.301254</td>\n",
              "      <td>-3.249640</td>\n",
              "      <td>-0.557828</td>\n",
              "      <td>2.630515</td>\n",
              "      <td>3.031260</td>\n",
              "      <td>-0.296827</td>\n",
              "      <td>0.708417</td>\n",
              "      <td>0.432454</td>\n",
              "      <td>...</td>\n",
              "      <td>0.001396</td>\n",
              "      <td>0.232045</td>\n",
              "      <td>0.578229</td>\n",
              "      <td>-0.037501</td>\n",
              "      <td>0.640134</td>\n",
              "      <td>0.265745</td>\n",
              "      <td>-0.087371</td>\n",
              "      <td>0.004455</td>\n",
              "      <td>-0.026561</td>\n",
              "      <td>67.88</td>\n",
              "    </tr>\n",
              "    <tr>\n",
              "      <th>284805</th>\n",
              "      <td>172788.0</td>\n",
              "      <td>-0.240440</td>\n",
              "      <td>0.530483</td>\n",
              "      <td>0.702510</td>\n",
              "      <td>0.689799</td>\n",
              "      <td>-0.377961</td>\n",
              "      <td>0.623708</td>\n",
              "      <td>-0.686180</td>\n",
              "      <td>0.679145</td>\n",
              "      <td>0.392087</td>\n",
              "      <td>...</td>\n",
              "      <td>0.127434</td>\n",
              "      <td>0.265245</td>\n",
              "      <td>0.800049</td>\n",
              "      <td>-0.163298</td>\n",
              "      <td>0.123205</td>\n",
              "      <td>-0.569159</td>\n",
              "      <td>0.546668</td>\n",
              "      <td>0.108821</td>\n",
              "      <td>0.104533</td>\n",
              "      <td>10.00</td>\n",
              "    </tr>\n",
              "    <tr>\n",
              "      <th>284806</th>\n",
              "      <td>172792.0</td>\n",
              "      <td>-0.533413</td>\n",
              "      <td>-0.189733</td>\n",
              "      <td>0.703337</td>\n",
              "      <td>-0.506271</td>\n",
              "      <td>-0.012546</td>\n",
              "      <td>-0.649617</td>\n",
              "      <td>1.577006</td>\n",
              "      <td>-0.414650</td>\n",
              "      <td>0.486180</td>\n",
              "      <td>...</td>\n",
              "      <td>0.382948</td>\n",
              "      <td>0.261057</td>\n",
              "      <td>0.643078</td>\n",
              "      <td>0.376777</td>\n",
              "      <td>0.008797</td>\n",
              "      <td>-0.473649</td>\n",
              "      <td>-0.818267</td>\n",
              "      <td>-0.002415</td>\n",
              "      <td>0.013649</td>\n",
              "      <td>217.00</td>\n",
              "    </tr>\n",
              "  </tbody>\n",
              "</table>\n",
              "<p>284807 rows × 30 columns</p>\n",
              "</div>\n",
              "      <button class=\"colab-df-convert\" onclick=\"convertToInteractive('df-dd952056-ac53-42de-b8e2-3e6cb5e88204')\"\n",
              "              title=\"Convert this dataframe to an interactive table.\"\n",
              "              style=\"display:none;\">\n",
              "        \n",
              "  <svg xmlns=\"http://www.w3.org/2000/svg\" height=\"24px\"viewBox=\"0 0 24 24\"\n",
              "       width=\"24px\">\n",
              "    <path d=\"M0 0h24v24H0V0z\" fill=\"none\"/>\n",
              "    <path d=\"M18.56 5.44l.94 2.06.94-2.06 2.06-.94-2.06-.94-.94-2.06-.94 2.06-2.06.94zm-11 1L8.5 8.5l.94-2.06 2.06-.94-2.06-.94L8.5 2.5l-.94 2.06-2.06.94zm10 10l.94 2.06.94-2.06 2.06-.94-2.06-.94-.94-2.06-.94 2.06-2.06.94z\"/><path d=\"M17.41 7.96l-1.37-1.37c-.4-.4-.92-.59-1.43-.59-.52 0-1.04.2-1.43.59L10.3 9.45l-7.72 7.72c-.78.78-.78 2.05 0 2.83L4 21.41c.39.39.9.59 1.41.59.51 0 1.02-.2 1.41-.59l7.78-7.78 2.81-2.81c.8-.78.8-2.07 0-2.86zM5.41 20L4 18.59l7.72-7.72 1.47 1.35L5.41 20z\"/>\n",
              "  </svg>\n",
              "      </button>\n",
              "      \n",
              "  <style>\n",
              "    .colab-df-container {\n",
              "      display:flex;\n",
              "      flex-wrap:wrap;\n",
              "      gap: 12px;\n",
              "    }\n",
              "\n",
              "    .colab-df-convert {\n",
              "      background-color: #E8F0FE;\n",
              "      border: none;\n",
              "      border-radius: 50%;\n",
              "      cursor: pointer;\n",
              "      display: none;\n",
              "      fill: #1967D2;\n",
              "      height: 32px;\n",
              "      padding: 0 0 0 0;\n",
              "      width: 32px;\n",
              "    }\n",
              "\n",
              "    .colab-df-convert:hover {\n",
              "      background-color: #E2EBFA;\n",
              "      box-shadow: 0px 1px 2px rgba(60, 64, 67, 0.3), 0px 1px 3px 1px rgba(60, 64, 67, 0.15);\n",
              "      fill: #174EA6;\n",
              "    }\n",
              "\n",
              "    [theme=dark] .colab-df-convert {\n",
              "      background-color: #3B4455;\n",
              "      fill: #D2E3FC;\n",
              "    }\n",
              "\n",
              "    [theme=dark] .colab-df-convert:hover {\n",
              "      background-color: #434B5C;\n",
              "      box-shadow: 0px 1px 3px 1px rgba(0, 0, 0, 0.15);\n",
              "      filter: drop-shadow(0px 1px 2px rgba(0, 0, 0, 0.3));\n",
              "      fill: #FFFFFF;\n",
              "    }\n",
              "  </style>\n",
              "\n",
              "      <script>\n",
              "        const buttonEl =\n",
              "          document.querySelector('#df-dd952056-ac53-42de-b8e2-3e6cb5e88204 button.colab-df-convert');\n",
              "        buttonEl.style.display =\n",
              "          google.colab.kernel.accessAllowed ? 'block' : 'none';\n",
              "\n",
              "        async function convertToInteractive(key) {\n",
              "          const element = document.querySelector('#df-dd952056-ac53-42de-b8e2-3e6cb5e88204');\n",
              "          const dataTable =\n",
              "            await google.colab.kernel.invokeFunction('convertToInteractive',\n",
              "                                                     [key], {});\n",
              "          if (!dataTable) return;\n",
              "\n",
              "          const docLinkHtml = 'Like what you see? Visit the ' +\n",
              "            '<a target=\"_blank\" href=https://colab.research.google.com/notebooks/data_table.ipynb>data table notebook</a>'\n",
              "            + ' to learn more about interactive tables.';\n",
              "          element.innerHTML = '';\n",
              "          dataTable['output_type'] = 'display_data';\n",
              "          await google.colab.output.renderOutput(dataTable, element);\n",
              "          const docLink = document.createElement('div');\n",
              "          docLink.innerHTML = docLinkHtml;\n",
              "          element.appendChild(docLink);\n",
              "        }\n",
              "      </script>\n",
              "    </div>\n",
              "  </div>\n",
              "  "
            ]
          },
          "metadata": {},
          "execution_count": 6
        }
      ]
    },
    {
      "cell_type": "code",
      "source": [
        "X.columns.values"
      ],
      "metadata": {
        "colab": {
          "base_uri": "https://localhost:8080/"
        },
        "id": "cT27c429zFqf",
        "outputId": "72a4d506-d4cb-4889-e8bd-a6e8d4fc2fcd"
      },
      "execution_count": null,
      "outputs": [
        {
          "output_type": "execute_result",
          "data": {
            "text/plain": [
              "array(['Time', 'V1', 'V2', 'V3', 'V4', 'V5', 'V6', 'V7', 'V8', 'V9',\n",
              "       'V10', 'V11', 'V12', 'V13', 'V14', 'V15', 'V16', 'V17', 'V18',\n",
              "       'V19', 'V20', 'V21', 'V22', 'V23', 'V24', 'V25', 'V26', 'V27',\n",
              "       'V28', 'Amount'], dtype=object)"
            ]
          },
          "metadata": {},
          "execution_count": 46
        }
      ]
    },
    {
      "cell_type": "code",
      "source": [
        "Y"
      ],
      "metadata": {
        "colab": {
          "base_uri": "https://localhost:8080/"
        },
        "id": "p9PUOP6BEzZx",
        "outputId": "f4f31393-bc33-4461-a0c1-5793dd5e8998"
      },
      "execution_count": null,
      "outputs": [
        {
          "output_type": "execute_result",
          "data": {
            "text/plain": [
              "0         0\n",
              "1         0\n",
              "2         0\n",
              "3         0\n",
              "4         0\n",
              "         ..\n",
              "284802    0\n",
              "284803    0\n",
              "284804    0\n",
              "284805    0\n",
              "284806    0\n",
              "Name: Class, Length: 284807, dtype: int64"
            ]
          },
          "metadata": {},
          "execution_count": 34
        }
      ]
    },
    {
      "cell_type": "code",
      "source": [
        "# from sklearn.datasets import load_digits\n",
        "from sklearn.model_selection import train_test_split\n",
        "from sklearn.metrics import accuracy_score\n",
        "\n",
        "from deepforest import CascadeForestClassifier\n",
        "\n",
        "\n",
        "X_train, X_test, y_train, y_test = train_test_split(X, Y)"
      ],
      "metadata": {
        "id": "ymhMzQDhGVNj"
      },
      "execution_count": null,
      "outputs": []
    },
    {
      "cell_type": "code",
      "source": [
        "X_train.to_csv(\"x_train.csv\")"
      ],
      "metadata": {
        "id": "jboeL5nAGYHT"
      },
      "execution_count": null,
      "outputs": []
    },
    {
      "cell_type": "code",
      "source": [],
      "metadata": {
        "id": "rKxUw3GYUrSD"
      },
      "execution_count": null,
      "outputs": []
    },
    {
      "cell_type": "code",
      "source": [
        "X_test.to_csv(\"x_test.csv\")"
      ],
      "metadata": {
        "id": "MGSPl2bCGkff"
      },
      "execution_count": null,
      "outputs": []
    },
    {
      "cell_type": "code",
      "source": [
        "y_train.to_csv(\"y_train.csv\")"
      ],
      "metadata": {
        "id": "t8GSgP9XGq4t"
      },
      "execution_count": null,
      "outputs": []
    },
    {
      "cell_type": "code",
      "source": [
        "y_test.to_csv(\"y_test.csv\")"
      ],
      "metadata": {
        "id": "OdYp9VOHGq-_"
      },
      "execution_count": null,
      "outputs": []
    },
    {
      "cell_type": "code",
      "execution_count": null,
      "metadata": {
        "colab": {
          "base_uri": "https://localhost:8080/"
        },
        "id": "gS0AHK22-Xls",
        "outputId": "e3403623-edee-4db3-e92d-3579e8fcebf2"
      },
      "outputs": [
        {
          "output_type": "stream",
          "name": "stdout",
          "text": [
            "[2022-11-12 12:02:08.346] Start to fit the model:\n",
            "[2022-11-12 12:02:08.348] Fitting cascade layer = 0 \n",
            "[2022-11-12 12:04:51.512] layer = 0  | Val Acc = 99.958 % | Elapsed = 163.163 s\n",
            "[2022-11-12 12:04:51.673] Fitting cascade layer = 1 \n",
            "[2022-11-12 12:07:22.811] layer = 1  | Val Acc = 99.958 % | Elapsed = 151.137 s\n",
            "[2022-11-12 12:07:22.812] Early stopping counter: 1 out of 2\n",
            "[2022-11-12 12:07:22.963] Fitting cascade layer = 2 \n",
            "[2022-11-12 12:09:59.925] layer = 2  | Val Acc = 99.959 % | Elapsed = 156.962 s\n",
            "[2022-11-12 12:09:59.926] Early stopping counter: 2 out of 2\n",
            "[2022-11-12 12:09:59.926] Handling early stopping\n",
            "[2022-11-12 12:09:59.929] The optimal number of layers: 1\n",
            "[2022-11-12 12:09:59.944] Start to evalute the model:\n",
            "[2022-11-12 12:10:00.104] Evaluating cascade layer = 0 \n",
            "\n",
            "Testing Accuracy: 99.951 %\n"
          ]
        }
      ],
      "source": [
        "\n",
        "model = CascadeForestClassifier(random_state=1)\n",
        "model.fit(X_train, y_train)\n",
        "y_pred = model.predict(X_test)\n",
        "acc = accuracy_score(y_test, y_pred) * 100\n",
        "print(\"\\nTesting Accuracy: {:.3f} %\".format(acc))\n"
      ]
    },
    {
      "cell_type": "code",
      "source": [
        "estimator = model.n_estimators"
      ],
      "metadata": {
        "id": "I_yijoxqx2-5"
      },
      "execution_count": null,
      "outputs": []
    },
    {
      "cell_type": "code",
      "source": [
        "estimator"
      ],
      "metadata": {
        "id": "xpwWCVfzzhAP",
        "outputId": "7052d30c-9404-419b-a4f8-1f3d6d47e3ae",
        "colab": {
          "base_uri": "https://localhost:8080/"
        }
      },
      "execution_count": null,
      "outputs": [
        {
          "output_type": "execute_result",
          "data": {
            "text/plain": [
              "2"
            ]
          },
          "metadata": {},
          "execution_count": 48
        }
      ]
    },
    {
      "cell_type": "code",
      "source": [
        "from sklearn.metrics import roc_auc_score\n",
        "prob = model.predict_proba(X_test)[::,1]\n",
        "roc_auc_score(y_test,prob)"
      ],
      "metadata": {
        "colab": {
          "base_uri": "https://localhost:8080/"
        },
        "id": "F0RhLDZ2Hr4X",
        "outputId": "ae169c13-13d3-4967-f4ef-12526bd63610"
      },
      "execution_count": null,
      "outputs": [
        {
          "output_type": "stream",
          "name": "stdout",
          "text": [
            "[2022-11-06 13:07:19.514] Start to evalute the model:\n",
            "[2022-11-06 13:07:19.738] Evaluating cascade layer = 0 \n",
            "[2022-11-06 13:07:22.292] Evaluating cascade layer = 1 \n"
          ]
        },
        {
          "output_type": "execute_result",
          "data": {
            "text/plain": [
              "0.9583177303141854"
            ]
          },
          "metadata": {},
          "execution_count": 12
        }
      ]
    },
    {
      "cell_type": "code",
      "source": [
        "from sklearn.metrics import roc_curve\n",
        "auc= roc_auc_score(y_test, prob)\n",
        "\n",
        "fpr, tpr, thresholds = roc_curve(y_test, prob)\n",
        "\n",
        "plt.plot(fpr, tpr, label=f'AUC (DeepForest) = {auc:.2f}')\n",
        "plt.plot([0, 1], [0, 1], color='blue', linestyle='--', label='Baseline')\n",
        "plt.title('ROC Curve', size=20)\n",
        "plt.xlabel('False Positive Rate', size=14)\n",
        "plt.ylabel('True Positive Rate', size=14)\n",
        "plt.legend();\n"
      ],
      "metadata": {
        "colab": {
          "base_uri": "https://localhost:8080/",
          "height": 304
        },
        "id": "eVx7HYs5CcQr",
        "outputId": "805c4396-5c4d-4998-bfec-876e4daeb027"
      },
      "execution_count": null,
      "outputs": [
        {
          "output_type": "display_data",
          "data": {
            "text/plain": [
              "<Figure size 432x288 with 1 Axes>"
            ],
            "image/png": "[encoded data removed]"
          },
          "metadata": {
            "needs_background": "light"
          }
        }
      ]
    },
    {
      "cell_type": "code",
      "source": [
        "from sklearn.metrics import  classification_report, confusion_matrix\n",
        "y_pred = model.predict(X_test)\n",
        "print('Classifcation report:\\n', classification_report(y_test, y_pred))\n",
        "conf_mat = confusion_matrix(y_true=y_test, y_pred=y_pred)\n",
        "print('Confusion matrix:\\n', conf_mat)"
      ],
      "metadata": {
        "colab": {
          "base_uri": "https://localhost:8080/"
        },
        "id": "gvxBH61s73tQ",
        "outputId": "8d307d38-9bce-48dd-f902-8c4671c162af"
      },
      "execution_count": null,
      "outputs": [
        {
          "output_type": "stream",
          "name": "stdout",
          "text": [
            "[2022-11-06 13:07:24.897] Start to evalute the model:\n",
            "[2022-11-06 13:07:25.117] Evaluating cascade layer = 0 \n",
            "[2022-11-06 13:07:28.317] Evaluating cascade layer = 1 \n",
            "Classifcation report:\n",
            "               precision    recall  f1-score   support\n",
            "\n",
            "           0       1.00      1.00      1.00     71091\n",
            "           1       0.95      0.78      0.86       111\n",
            "\n",
            "    accuracy                           1.00     71202\n",
            "   macro avg       0.97      0.89      0.93     71202\n",
            "weighted avg       1.00      1.00      1.00     71202\n",
            "\n",
            "Confusion matrix:\n",
            " [[71086     5]\n",
            " [   24    87]]\n"
          ]
        }
      ]
    },
    {
      "cell_type": "markdown",
      "source": [
        "https://www.sciencedirect.com/science/article/abs/pii/S0065245820300851\n",
        "\n",
        "https://dl.acm.org/doi/abs/10.1145/3342241"
      ],
      "metadata": {
        "id": "GM0-0oGJIkTP"
      }
    },
    {
      "cell_type": "code",
      "source": [
        "%%shell\n",
        "jupyter nbconvert --to html /content/Deep_Forest.ipynb"
      ],
      "metadata": {
        "id": "kJewxjjZD-2K",
        "outputId": "5375351c-f32f-4657-92d0-d5bc26a39711",
        "colab": {
          "base_uri": "https://localhost:8080/"
        }
      },
      "execution_count": null,
      "outputs": [
        {
          "output_type": "stream",
          "name": "stdout",
          "text": [
            "[NbConvertApp] Converting notebook /content/Deep_Forest.ipynb to html\n",
            "[NbConvertApp] Writing 776681 bytes to /content/Deep_Forest.html\n"
          ]
        },
        {
          "output_type": "execute_result",
          "data": {
            "text/plain": []
          },
          "metadata": {},
          "execution_count": 18
        }
      ]
    },
    {
      "cell_type": "code",
      "source": [
        "\n",
        "model2 = CascadeForestClassifier(random_state=1,max_layers=7)\n",
        "model2.fit(X_train, y_train)\n",
        "y_pred2 = model2.predict(X_test)\n",
        "acc2 = accuracy_score(y_test, y_pred2) * 100\n",
        "print(\"\\nTesting Accuracy: {:.3f} %\".format(acc2))\n"
      ],
      "metadata": {
        "id": "BwFYsl2sEEtm",
        "colab": {
          "base_uri": "https://localhost:8080/"
        },
        "outputId": "41e4f006-6f9a-407e-acc2-b1b580108785"
      },
      "execution_count": null,
      "outputs": [
        {
          "output_type": "stream",
          "name": "stdout",
          "text": [
            "[2022-11-11 19:35:34.691] Start to fit the model:\n",
            "[2022-11-11 19:35:34.691] Fitting cascade layer = 0 \n",
            "[2022-11-11 19:37:21.644] layer = 0  | Val Acc = 99.957 % | Elapsed = 106.953 s\n",
            "[2022-11-11 19:37:21.733] Fitting cascade layer = 1 \n",
            "[2022-11-11 19:38:57.663] layer = 1  | Val Acc = 99.960 % | Elapsed = 95.930 s\n",
            "[2022-11-11 19:38:57.741] Fitting cascade layer = 2 \n",
            "[2022-11-11 19:40:32.759] layer = 2  | Val Acc = 99.962 % | Elapsed = 95.018 s\n",
            "[2022-11-11 19:40:32.842] Fitting cascade layer = 3 \n",
            "[2022-11-11 19:42:08.656] layer = 3  | Val Acc = 99.961 % | Elapsed = 95.813 s\n",
            "[2022-11-11 19:42:08.656] Early stopping counter: 1 out of 2\n",
            "[2022-11-11 19:42:08.738] Fitting cascade layer = 4 \n",
            "[2022-11-11 19:43:50.897] layer = 4  | Val Acc = 99.959 % | Elapsed = 102.160 s\n",
            "[2022-11-11 19:43:50.898] Early stopping counter: 2 out of 2\n",
            "[2022-11-11 19:43:50.899] Handling early stopping\n",
            "[2022-11-11 19:43:50.900] The optimal number of layers: 3\n",
            "[2022-11-11 19:43:50.904] Start to evalute the model:\n",
            "[2022-11-11 19:43:51.034] Evaluating cascade layer = 0 \n",
            "[2022-11-11 19:43:52.784] Evaluating cascade layer = 1 \n",
            "[2022-11-11 19:43:54.482] Evaluating cascade layer = 2 \n",
            "\n",
            "Testing Accuracy: 99.949 %\n"
          ]
        }
      ]
    },
    {
      "cell_type": "code",
      "source": [
        "\n",
        "model3 = CascadeForestClassifier(random_state=1,max_layers=4)\n",
        "model3.fit(X_train, y_train)\n",
        "y_pred3 = model3.predict(X_test)\n",
        "acc3 = accuracy_score(y_test, y_pred3) * 100\n",
        "print(\"\\nTesting Accuracy: {:.3f} %\".format(acc3))\n"
      ],
      "metadata": {
        "colab": {
          "base_uri": "https://localhost:8080/"
        },
        "id": "MEvxelrIguf3",
        "outputId": "4d903152-4cb2-4f96-8734-bd0a67223ad5"
      },
      "execution_count": null,
      "outputs": [
        {
          "output_type": "stream",
          "name": "stdout",
          "text": [
            "[2022-11-11 19:53:41.339] Start to fit the model:\n",
            "[2022-11-11 19:53:41.340] Fitting cascade layer = 0 \n",
            "[2022-11-11 19:55:32.143] layer = 0  | Val Acc = 99.957 % | Elapsed = 110.802 s\n",
            "[2022-11-11 19:55:32.232] Fitting cascade layer = 1 \n",
            "[2022-11-11 19:57:12.087] layer = 1  | Val Acc = 99.960 % | Elapsed = 99.855 s\n",
            "[2022-11-11 19:57:12.166] Fitting cascade layer = 2 \n",
            "[2022-11-11 19:58:49.845] layer = 2  | Val Acc = 99.962 % | Elapsed = 97.679 s\n",
            "[2022-11-11 19:58:49.929] Fitting cascade layer = 3 \n",
            "[2022-11-11 20:00:26.871] layer = 3  | Val Acc = 99.961 % | Elapsed = 96.941 s\n",
            "[2022-11-11 20:00:26.872] Early stopping counter: 1 out of 2\n",
            "[2022-11-11 20:00:26.872] Reaching the maximum number of layers: 4\n",
            "[2022-11-11 20:00:26.876] Start to evalute the model:\n",
            "[2022-11-11 20:00:27.005] Evaluating cascade layer = 0 \n",
            "[2022-11-11 20:00:28.730] Evaluating cascade layer = 1 \n",
            "[2022-11-11 20:00:30.422] Evaluating cascade layer = 2 \n",
            "[2022-11-11 20:00:32.148] Evaluating cascade layer = 3 \n",
            "\n",
            "Testing Accuracy: 99.947 %\n"
          ]
        }
      ]
    },
    {
      "cell_type": "code",
      "source": [
        "\n",
        "model4 = CascadeForestClassifier(random_state=1,max_layers=3)\n",
        "model4.fit(X_train, y_train)\n",
        "y_pred4 = model4.predict(X_test)\n",
        "acc2 = accuracy_score(y_test, y_pred4) * 100\n",
        "print(\"\\nTesting Accuracy: {:.3f} %\".format(acc2))\n"
      ],
      "metadata": {
        "colab": {
          "base_uri": "https://localhost:8080/"
        },
        "id": "QLqqDGoxOO1R",
        "outputId": "497d97ca-5c1f-4392-ad33-31e3d3d934fa"
      },
      "execution_count": null,
      "outputs": [
        {
          "output_type": "stream",
          "name": "stdout",
          "text": [
            "[2022-11-11 20:00:35.131] Start to fit the model:\n",
            "[2022-11-11 20:00:35.131] Fitting cascade layer = 0 \n",
            "[2022-11-11 20:02:25.473] layer = 0  | Val Acc = 99.957 % | Elapsed = 110.342 s\n",
            "[2022-11-11 20:02:25.568] Fitting cascade layer = 1 \n",
            "[2022-11-11 20:04:05.319] layer = 1  | Val Acc = 99.960 % | Elapsed = 99.750 s\n",
            "[2022-11-11 20:04:05.406] Fitting cascade layer = 2 \n",
            "[2022-11-11 20:05:41.549] layer = 2  | Val Acc = 99.962 % | Elapsed = 96.143 s\n",
            "[2022-11-11 20:05:41.550] Reaching the maximum number of layers: 3\n",
            "[2022-11-11 20:05:41.554] Start to evalute the model:\n",
            "[2022-11-11 20:05:41.682] Evaluating cascade layer = 0 \n",
            "[2022-11-11 20:05:43.437] Evaluating cascade layer = 1 \n",
            "[2022-11-11 20:05:45.139] Evaluating cascade layer = 2 \n",
            "\n",
            "Testing Accuracy: 99.947 %\n"
          ]
        }
      ]
    },
    {
      "cell_type": "code",
      "source": [
        "print(\"\\nTesting Accuracy: {:.3f} %\".format(acc2))"
      ],
      "metadata": {
        "colab": {
          "base_uri": "https://localhost:8080/"
        },
        "id": "KqqKZkzLTlbH",
        "outputId": "8459a285-4057-4d56-a076-c0290f129ed6"
      },
      "execution_count": null,
      "outputs": [
        {
          "output_type": "stream",
          "name": "stdout",
          "text": [
            "\n",
            "Testing Accuracy: 99.949 %\n"
          ]
        }
      ]
    },
    {
      "cell_type": "code",
      "source": [
        "\n",
        "model5 = CascadeForestClassifier(random_state=1,max_layers=5)\n",
        "model5.fit(X_train, y_train)\n",
        "y_pred5 = model5.predict(X_test)\n",
        "acc5 = accuracy_score(y_test, y_pred5) * 100\n",
        "print(\"\\nTesting Accuracy: {:.3f} %\".format(acc5))\n"
      ],
      "metadata": {
        "colab": {
          "base_uri": "https://localhost:8080/"
        },
        "id": "bXrGkqweOVyy",
        "outputId": "e21758e9-7e24-4117-84b5-1688a93dafc3"
      },
      "execution_count": null,
      "outputs": [
        {
          "output_type": "stream",
          "name": "stdout",
          "text": [
            "[2022-11-11 20:18:55.014] Start to fit the model:\n",
            "[2022-11-11 20:18:55.014] Fitting cascade layer = 0 \n",
            "[2022-11-11 20:20:46.423] layer = 0  | Val Acc = 99.957 % | Elapsed = 111.408 s\n",
            "[2022-11-11 20:20:46.519] Fitting cascade layer = 1 \n",
            "[2022-11-11 20:22:30.127] layer = 1  | Val Acc = 99.960 % | Elapsed = 103.607 s\n",
            "[2022-11-11 20:22:30.212] Fitting cascade layer = 2 \n",
            "[2022-11-11 20:24:09.928] layer = 2  | Val Acc = 99.962 % | Elapsed = 99.715 s\n",
            "[2022-11-11 20:24:10.014] Fitting cascade layer = 3 \n",
            "[2022-11-11 20:25:47.637] layer = 3  | Val Acc = 99.961 % | Elapsed = 97.622 s\n",
            "[2022-11-11 20:25:47.637] Early stopping counter: 1 out of 2\n",
            "[2022-11-11 20:25:47.720] Fitting cascade layer = 4 \n",
            "[2022-11-11 20:27:29.671] layer = 4  | Val Acc = 99.959 % | Elapsed = 101.950 s\n",
            "[2022-11-11 20:27:29.671] Early stopping counter: 2 out of 2\n",
            "[2022-11-11 20:27:29.671] Handling early stopping\n",
            "[2022-11-11 20:27:29.672] The optimal number of layers: 3\n",
            "[2022-11-11 20:27:29.678] Start to evalute the model:\n",
            "[2022-11-11 20:27:29.807] Evaluating cascade layer = 0 \n",
            "[2022-11-11 20:27:31.545] Evaluating cascade layer = 1 \n",
            "[2022-11-11 20:27:33.267] Evaluating cascade layer = 2 \n",
            "\n",
            "Testing Accuracy: 99.949 %\n"
          ]
        }
      ]
    },
    {
      "cell_type": "markdown",
      "source": [
        "# **Dataset - 2**"
      ],
      "metadata": {
        "id": "5FXOJeZhmvjq"
      }
    },
    {
      "cell_type": "code",
      "source": [
        "X_train2 =  pd.read_csv(\"/content/gdrive/MyDrive/ML_Project_research/Final_data_paysim/x_train_final.csv\")\n",
        "X_test2 = pd.read_csv(\"/content/gdrive/MyDrive/ML_Project_research/Final_data_paysim/x_test_final.csv\")\n",
        "y_train2 = pd.read_csv(\"/content/gdrive/MyDrive/ML_Project_research/Final_data_paysim/y_train_final.csv\")\n",
        "y_test2 = pd.read_csv(\"/content/gdrive/MyDrive/ML_Project_research/Final_data_paysim/y_test_final.csv\")"
      ],
      "metadata": {
        "id": "D5Cl0bbNTJ3t"
      },
      "execution_count": null,
      "outputs": []
    },
    {
      "cell_type": "code",
      "source": [
        "y_train2= y_train2.iloc[:,-1]\n",
        "y_test2= y_test2.iloc[:,-1]"
      ],
      "metadata": {
        "id": "GOPYpicvoJzJ"
      },
      "execution_count": null,
      "outputs": []
    },
    {
      "cell_type": "code",
      "source": [
        "X_train2"
      ],
      "metadata": {
        "colab": {
          "base_uri": "https://localhost:8080/",
          "height": 424
        },
        "id": "CU1BAZiXSdYp",
        "outputId": "05aa706b-456d-4d1d-df60-6a8fd96ded64"
      },
      "execution_count": null,
      "outputs": [
        {
          "output_type": "execute_result",
          "data": {
            "text/plain": [
              "        Unnamed: 0  Unnamed: 0.1      step    amount  nameOrig  oldbalanceOrg  \\\n",
              "0                0      0.439103  0.235294  0.001864  0.959018       0.000000   \n",
              "1                1      0.086910  0.073529  0.002328  0.234336       0.000271   \n",
              "2                2      0.631611  0.294118  0.001230  0.838485       0.013366   \n",
              "3                3      0.504717  0.257353  0.059956  0.753044       0.000000   \n",
              "4                4      0.397863  0.147059  0.000535  0.892299       0.002875   \n",
              "...            ...           ...       ...       ...       ...            ...   \n",
              "139805      139805      0.758544  0.379513  0.048803  0.681151       0.013085   \n",
              "139806      139806      0.652723  0.318172  0.032976  0.952436       0.008841   \n",
              "139807      139807      0.447703  0.192082  0.003537  0.595966       0.000948   \n",
              "139808      139808      0.782598  0.744581  0.024198  0.830866       0.006488   \n",
              "139809      139809      0.445511  0.238674  0.079569  0.863489       0.021334   \n",
              "\n",
              "        newbalanceOrig  nameDest  oldbalanceDest  newbalanceDest  \n",
              "0             0.000000  0.702475        0.000000        0.000000  \n",
              "1             0.000000  0.973187        0.000000        0.000000  \n",
              "2             0.012953  0.427225        0.000000        0.000000  \n",
              "3             0.000000  0.595635        0.055815        0.068240  \n",
              "4             0.002714  0.954048        0.000000        0.000000  \n",
              "...                ...       ...             ...             ...  \n",
              "139805        0.000000  0.270819        0.000197        0.007134  \n",
              "139806        0.000000  0.360944        0.001920        0.009817  \n",
              "139807        0.000000  0.973821        0.006892        0.007206  \n",
              "139808        0.000000  0.413916        0.000839        0.002252  \n",
              "139809        0.000000  0.860958        0.017674        0.043582  \n",
              "\n",
              "[139810 rows x 10 columns]"
            ],
            "text/html": [
              "\n",
              "  <div id=\"df-4531fa98-f7ee-4582-acb3-c68db6e70059\">\n",
              "    <div class=\"colab-df-container\">\n",
              "      <div>\n",
              "<style scoped>\n",
              "    .dataframe tbody tr th:only-of-type {\n",
              "        vertical-align: middle;\n",
              "    }\n",
              "\n",
              "    .dataframe tbody tr th {\n",
              "        vertical-align: top;\n",
              "    }\n",
              "\n",
              "    .dataframe thead th {\n",
              "        text-align: right;\n",
              "    }\n",
              "</style>\n",
              "<table border=\"1\" class=\"dataframe\">\n",
              "  <thead>\n",
              "    <tr style=\"text-align: right;\">\n",
              "      <th></th>\n",
              "      <th>Unnamed: 0</th>\n",
              "      <th>Unnamed: 0.1</th>\n",
              "      <th>step</th>\n",
              "      <th>amount</th>\n",
              "      <th>nameOrig</th>\n",
              "      <th>oldbalanceOrg</th>\n",
              "      <th>newbalanceOrig</th>\n",
              "      <th>nameDest</th>\n",
              "      <th>oldbalanceDest</th>\n",
              "      <th>newbalanceDest</th>\n",
              "    </tr>\n",
              "  </thead>\n",
              "  <tbody>\n",
              "    <tr>\n",
              "      <th>0</th>\n",
              "      <td>0</td>\n",
              "      <td>0.439103</td>\n",
              "      <td>0.235294</td>\n",
              "      <td>0.001864</td>\n",
              "      <td>0.959018</td>\n",
              "      <td>0.000000</td>\n",
              "      <td>0.000000</td>\n",
              "      <td>0.702475</td>\n",
              "      <td>0.000000</td>\n",
              "      <td>0.000000</td>\n",
              "    </tr>\n",
              "    <tr>\n",
              "      <th>1</th>\n",
              "      <td>1</td>\n",
              "      <td>0.086910</td>\n",
              "      <td>0.073529</td>\n",
              "      <td>0.002328</td>\n",
              "      <td>0.234336</td>\n",
              "      <td>0.000271</td>\n",
              "      <td>0.000000</td>\n",
              "      <td>0.973187</td>\n",
              "      <td>0.000000</td>\n",
              "      <td>0.000000</td>\n",
              "    </tr>\n",
              "    <tr>\n",
              "      <th>2</th>\n",
              "      <td>2</td>\n",
              "      <td>0.631611</td>\n",
              "      <td>0.294118</td>\n",
              "      <td>0.001230</td>\n",
              "      <td>0.838485</td>\n",
              "      <td>0.013366</td>\n",
              "      <td>0.012953</td>\n",
              "      <td>0.427225</td>\n",
              "      <td>0.000000</td>\n",
              "      <td>0.000000</td>\n",
              "    </tr>\n",
              "    <tr>\n",
              "      <th>3</th>\n",
              "      <td>3</td>\n",
              "      <td>0.504717</td>\n",
              "      <td>0.257353</td>\n",
              "      <td>0.059956</td>\n",
              "      <td>0.753044</td>\n",
              "      <td>0.000000</td>\n",
              "      <td>0.000000</td>\n",
              "      <td>0.595635</td>\n",
              "      <td>0.055815</td>\n",
              "      <td>0.068240</td>\n",
              "    </tr>\n",
              "    <tr>\n",
              "      <th>4</th>\n",
              "      <td>4</td>\n",
              "      <td>0.397863</td>\n",
              "      <td>0.147059</td>\n",
              "      <td>0.000535</td>\n",
              "      <td>0.892299</td>\n",
              "      <td>0.002875</td>\n",
              "      <td>0.002714</td>\n",
              "      <td>0.954048</td>\n",
              "      <td>0.000000</td>\n",
              "      <td>0.000000</td>\n",
              "    </tr>\n",
              "    <tr>\n",
              "      <th>...</th>\n",
              "      <td>...</td>\n",
              "      <td>...</td>\n",
              "      <td>...</td>\n",
              "      <td>...</td>\n",
              "      <td>...</td>\n",
              "      <td>...</td>\n",
              "      <td>...</td>\n",
              "      <td>...</td>\n",
              "      <td>...</td>\n",
              "      <td>...</td>\n",
              "    </tr>\n",
              "    <tr>\n",
              "      <th>139805</th>\n",
              "      <td>139805</td>\n",
              "      <td>0.758544</td>\n",
              "      <td>0.379513</td>\n",
              "      <td>0.048803</td>\n",
              "      <td>0.681151</td>\n",
              "      <td>0.013085</td>\n",
              "      <td>0.000000</td>\n",
              "      <td>0.270819</td>\n",
              "      <td>0.000197</td>\n",
              "      <td>0.007134</td>\n",
              "    </tr>\n",
              "    <tr>\n",
              "      <th>139806</th>\n",
              "      <td>139806</td>\n",
              "      <td>0.652723</td>\n",
              "      <td>0.318172</td>\n",
              "      <td>0.032976</td>\n",
              "      <td>0.952436</td>\n",
              "      <td>0.008841</td>\n",
              "      <td>0.000000</td>\n",
              "      <td>0.360944</td>\n",
              "      <td>0.001920</td>\n",
              "      <td>0.009817</td>\n",
              "    </tr>\n",
              "    <tr>\n",
              "      <th>139807</th>\n",
              "      <td>139807</td>\n",
              "      <td>0.447703</td>\n",
              "      <td>0.192082</td>\n",
              "      <td>0.003537</td>\n",
              "      <td>0.595966</td>\n",
              "      <td>0.000948</td>\n",
              "      <td>0.000000</td>\n",
              "      <td>0.973821</td>\n",
              "      <td>0.006892</td>\n",
              "      <td>0.007206</td>\n",
              "    </tr>\n",
              "    <tr>\n",
              "      <th>139808</th>\n",
              "      <td>139808</td>\n",
              "      <td>0.782598</td>\n",
              "      <td>0.744581</td>\n",
              "      <td>0.024198</td>\n",
              "      <td>0.830866</td>\n",
              "      <td>0.006488</td>\n",
              "      <td>0.000000</td>\n",
              "      <td>0.413916</td>\n",
              "      <td>0.000839</td>\n",
              "      <td>0.002252</td>\n",
              "    </tr>\n",
              "    <tr>\n",
              "      <th>139809</th>\n",
              "      <td>139809</td>\n",
              "      <td>0.445511</td>\n",
              "      <td>0.238674</td>\n",
              "      <td>0.079569</td>\n",
              "      <td>0.863489</td>\n",
              "      <td>0.021334</td>\n",
              "      <td>0.000000</td>\n",
              "      <td>0.860958</td>\n",
              "      <td>0.017674</td>\n",
              "      <td>0.043582</td>\n",
              "    </tr>\n",
              "  </tbody>\n",
              "</table>\n",
              "<p>139810 rows × 10 columns</p>\n",
              "</div>\n",
              "      <button class=\"colab-df-convert\" onclick=\"convertToInteractive('df-4531fa98-f7ee-4582-acb3-c68db6e70059')\"\n",
              "              title=\"Convert this dataframe to an interactive table.\"\n",
              "              style=\"display:none;\">\n",
              "        \n",
              "  <svg xmlns=\"http://www.w3.org/2000/svg\" height=\"24px\"viewBox=\"0 0 24 24\"\n",
              "       width=\"24px\">\n",
              "    <path d=\"M0 0h24v24H0V0z\" fill=\"none\"/>\n",
              "    <path d=\"M18.56 5.44l.94 2.06.94-2.06 2.06-.94-2.06-.94-.94-2.06-.94 2.06-2.06.94zm-11 1L8.5 8.5l.94-2.06 2.06-.94-2.06-.94L8.5 2.5l-.94 2.06-2.06.94zm10 10l.94 2.06.94-2.06 2.06-.94-2.06-.94-.94-2.06-.94 2.06-2.06.94z\"/><path d=\"M17.41 7.96l-1.37-1.37c-.4-.4-.92-.59-1.43-.59-.52 0-1.04.2-1.43.59L10.3 9.45l-7.72 7.72c-.78.78-.78 2.05 0 2.83L4 21.41c.39.39.9.59 1.41.59.51 0 1.02-.2 1.41-.59l7.78-7.78 2.81-2.81c.8-.78.8-2.07 0-2.86zM5.41 20L4 18.59l7.72-7.72 1.47 1.35L5.41 20z\"/>\n",
              "  </svg>\n",
              "      </button>\n",
              "      \n",
              "  <style>\n",
              "    .colab-df-container {\n",
              "      display:flex;\n",
              "      flex-wrap:wrap;\n",
              "      gap: 12px;\n",
              "    }\n",
              "\n",
              "    .colab-df-convert {\n",
              "      background-color: #E8F0FE;\n",
              "      border: none;\n",
              "      border-radius: 50%;\n",
              "      cursor: pointer;\n",
              "      display: none;\n",
              "      fill: #1967D2;\n",
              "      height: 32px;\n",
              "      padding: 0 0 0 0;\n",
              "      width: 32px;\n",
              "    }\n",
              "\n",
              "    .colab-df-convert:hover {\n",
              "      background-color: #E2EBFA;\n",
              "      box-shadow: 0px 1px 2px rgba(60, 64, 67, 0.3), 0px 1px 3px 1px rgba(60, 64, 67, 0.15);\n",
              "      fill: #174EA6;\n",
              "    }\n",
              "\n",
              "    [theme=dark] .colab-df-convert {\n",
              "      background-color: #3B4455;\n",
              "      fill: #D2E3FC;\n",
              "    }\n",
              "\n",
              "    [theme=dark] .colab-df-convert:hover {\n",
              "      background-color: #434B5C;\n",
              "      box-shadow: 0px 1px 3px 1px rgba(0, 0, 0, 0.15);\n",
              "      filter: drop-shadow(0px 1px 2px rgba(0, 0, 0, 0.3));\n",
              "      fill: #FFFFFF;\n",
              "    }\n",
              "  </style>\n",
              "\n",
              "      <script>\n",
              "        const buttonEl =\n",
              "          document.querySelector('#df-4531fa98-f7ee-4582-acb3-c68db6e70059 button.colab-df-convert');\n",
              "        buttonEl.style.display =\n",
              "          google.colab.kernel.accessAllowed ? 'block' : 'none';\n",
              "\n",
              "        async function convertToInteractive(key) {\n",
              "          const element = document.querySelector('#df-4531fa98-f7ee-4582-acb3-c68db6e70059');\n",
              "          const dataTable =\n",
              "            await google.colab.kernel.invokeFunction('convertToInteractive',\n",
              "                                                     [key], {});\n",
              "          if (!dataTable) return;\n",
              "\n",
              "          const docLinkHtml = 'Like what you see? Visit the ' +\n",
              "            '<a target=\"_blank\" href=https://colab.research.google.com/notebooks/data_table.ipynb>data table notebook</a>'\n",
              "            + ' to learn more about interactive tables.';\n",
              "          element.innerHTML = '';\n",
              "          dataTable['output_type'] = 'display_data';\n",
              "          await google.colab.output.renderOutput(dataTable, element);\n",
              "          const docLink = document.createElement('div');\n",
              "          docLink.innerHTML = docLinkHtml;\n",
              "          element.appendChild(docLink);\n",
              "        }\n",
              "      </script>\n",
              "    </div>\n",
              "  </div>\n",
              "  "
            ]
          },
          "metadata": {},
          "execution_count": 22
        }
      ]
    },
    {
      "cell_type": "code",
      "source": [],
      "metadata": {
        "id": "aHzaQZgWSPLc"
      },
      "execution_count": null,
      "outputs": []
    },
    {
      "cell_type": "code",
      "source": [
        "X_train2.drop(X_train2.columns[[0, 1]], axis=1, inplace=True)"
      ],
      "metadata": {
        "id": "CnwspAaJSYkH"
      },
      "execution_count": null,
      "outputs": []
    },
    {
      "cell_type": "code",
      "source": [
        "X_train2"
      ],
      "metadata": {
        "colab": {
          "base_uri": "https://localhost:8080/",
          "height": 424
        },
        "id": "Kf_LfG95S02p",
        "outputId": "3fb8f95b-4bf8-4d0a-d29f-de8251ede2ee"
      },
      "execution_count": null,
      "outputs": [
        {
          "output_type": "execute_result",
          "data": {
            "text/plain": [
              "            step    amount  nameOrig  oldbalanceOrg  newbalanceOrig  nameDest  \\\n",
              "0       0.235294  0.001864  0.959018       0.000000        0.000000  0.702475   \n",
              "1       0.073529  0.002328  0.234336       0.000271        0.000000  0.973187   \n",
              "2       0.294118  0.001230  0.838485       0.013366        0.012953  0.427225   \n",
              "3       0.257353  0.059956  0.753044       0.000000        0.000000  0.595635   \n",
              "4       0.147059  0.000535  0.892299       0.002875        0.002714  0.954048   \n",
              "...          ...       ...       ...            ...             ...       ...   \n",
              "139805  0.379513  0.048803  0.681151       0.013085        0.000000  0.270819   \n",
              "139806  0.318172  0.032976  0.952436       0.008841        0.000000  0.360944   \n",
              "139807  0.192082  0.003537  0.595966       0.000948        0.000000  0.973821   \n",
              "139808  0.744581  0.024198  0.830866       0.006488        0.000000  0.413916   \n",
              "139809  0.238674  0.079569  0.863489       0.021334        0.000000  0.860958   \n",
              "\n",
              "        oldbalanceDest  newbalanceDest  \n",
              "0             0.000000        0.000000  \n",
              "1             0.000000        0.000000  \n",
              "2             0.000000        0.000000  \n",
              "3             0.055815        0.068240  \n",
              "4             0.000000        0.000000  \n",
              "...                ...             ...  \n",
              "139805        0.000197        0.007134  \n",
              "139806        0.001920        0.009817  \n",
              "139807        0.006892        0.007206  \n",
              "139808        0.000839        0.002252  \n",
              "139809        0.017674        0.043582  \n",
              "\n",
              "[139810 rows x 8 columns]"
            ],
            "text/html": [
              "\n",
              "  <div id=\"df-20c144eb-f83a-4ac7-9311-bd476ce5e1e3\">\n",
              "    <div class=\"colab-df-container\">\n",
              "      <div>\n",
              "<style scoped>\n",
              "    .dataframe tbody tr th:only-of-type {\n",
              "        vertical-align: middle;\n",
              "    }\n",
              "\n",
              "    .dataframe tbody tr th {\n",
              "        vertical-align: top;\n",
              "    }\n",
              "\n",
              "    .dataframe thead th {\n",
              "        text-align: right;\n",
              "    }\n",
              "</style>\n",
              "<table border=\"1\" class=\"dataframe\">\n",
              "  <thead>\n",
              "    <tr style=\"text-align: right;\">\n",
              "      <th></th>\n",
              "      <th>step</th>\n",
              "      <th>amount</th>\n",
              "      <th>nameOrig</th>\n",
              "      <th>oldbalanceOrg</th>\n",
              "      <th>newbalanceOrig</th>\n",
              "      <th>nameDest</th>\n",
              "      <th>oldbalanceDest</th>\n",
              "      <th>newbalanceDest</th>\n",
              "    </tr>\n",
              "  </thead>\n",
              "  <tbody>\n",
              "    <tr>\n",
              "      <th>0</th>\n",
              "      <td>0.235294</td>\n",
              "      <td>0.001864</td>\n",
              "      <td>0.959018</td>\n",
              "      <td>0.000000</td>\n",
              "      <td>0.000000</td>\n",
              "      <td>0.702475</td>\n",
              "      <td>0.000000</td>\n",
              "      <td>0.000000</td>\n",
              "    </tr>\n",
              "    <tr>\n",
              "      <th>1</th>\n",
              "      <td>0.073529</td>\n",
              "      <td>0.002328</td>\n",
              "      <td>0.234336</td>\n",
              "      <td>0.000271</td>\n",
              "      <td>0.000000</td>\n",
              "      <td>0.973187</td>\n",
              "      <td>0.000000</td>\n",
              "      <td>0.000000</td>\n",
              "    </tr>\n",
              "    <tr>\n",
              "      <th>2</th>\n",
              "      <td>0.294118</td>\n",
              "      <td>0.001230</td>\n",
              "      <td>0.838485</td>\n",
              "      <td>0.013366</td>\n",
              "      <td>0.012953</td>\n",
              "      <td>0.427225</td>\n",
              "      <td>0.000000</td>\n",
              "      <td>0.000000</td>\n",
              "    </tr>\n",
              "    <tr>\n",
              "      <th>3</th>\n",
              "      <td>0.257353</td>\n",
              "      <td>0.059956</td>\n",
              "      <td>0.753044</td>\n",
              "      <td>0.000000</td>\n",
              "      <td>0.000000</td>\n",
              "      <td>0.595635</td>\n",
              "      <td>0.055815</td>\n",
              "      <td>0.068240</td>\n",
              "    </tr>\n",
              "    <tr>\n",
              "      <th>4</th>\n",
              "      <td>0.147059</td>\n",
              "      <td>0.000535</td>\n",
              "      <td>0.892299</td>\n",
              "      <td>0.002875</td>\n",
              "      <td>0.002714</td>\n",
              "      <td>0.954048</td>\n",
              "      <td>0.000000</td>\n",
              "      <td>0.000000</td>\n",
              "    </tr>\n",
              "    <tr>\n",
              "      <th>...</th>\n",
              "      <td>...</td>\n",
              "      <td>...</td>\n",
              "      <td>...</td>\n",
              "      <td>...</td>\n",
              "      <td>...</td>\n",
              "      <td>...</td>\n",
              "      <td>...</td>\n",
              "      <td>...</td>\n",
              "    </tr>\n",
              "    <tr>\n",
              "      <th>139805</th>\n",
              "      <td>0.379513</td>\n",
              "      <td>0.048803</td>\n",
              "      <td>0.681151</td>\n",
              "      <td>0.013085</td>\n",
              "      <td>0.000000</td>\n",
              "      <td>0.270819</td>\n",
              "      <td>0.000197</td>\n",
              "      <td>0.007134</td>\n",
              "    </tr>\n",
              "    <tr>\n",
              "      <th>139806</th>\n",
              "      <td>0.318172</td>\n",
              "      <td>0.032976</td>\n",
              "      <td>0.952436</td>\n",
              "      <td>0.008841</td>\n",
              "      <td>0.000000</td>\n",
              "      <td>0.360944</td>\n",
              "      <td>0.001920</td>\n",
              "      <td>0.009817</td>\n",
              "    </tr>\n",
              "    <tr>\n",
              "      <th>139807</th>\n",
              "      <td>0.192082</td>\n",
              "      <td>0.003537</td>\n",
              "      <td>0.595966</td>\n",
              "      <td>0.000948</td>\n",
              "      <td>0.000000</td>\n",
              "      <td>0.973821</td>\n",
              "      <td>0.006892</td>\n",
              "      <td>0.007206</td>\n",
              "    </tr>\n",
              "    <tr>\n",
              "      <th>139808</th>\n",
              "      <td>0.744581</td>\n",
              "      <td>0.024198</td>\n",
              "      <td>0.830866</td>\n",
              "      <td>0.006488</td>\n",
              "      <td>0.000000</td>\n",
              "      <td>0.413916</td>\n",
              "      <td>0.000839</td>\n",
              "      <td>0.002252</td>\n",
              "    </tr>\n",
              "    <tr>\n",
              "      <th>139809</th>\n",
              "      <td>0.238674</td>\n",
              "      <td>0.079569</td>\n",
              "      <td>0.863489</td>\n",
              "      <td>0.021334</td>\n",
              "      <td>0.000000</td>\n",
              "      <td>0.860958</td>\n",
              "      <td>0.017674</td>\n",
              "      <td>0.043582</td>\n",
              "    </tr>\n",
              "  </tbody>\n",
              "</table>\n",
              "<p>139810 rows × 8 columns</p>\n",
              "</div>\n",
              "      <button class=\"colab-df-convert\" onclick=\"convertToInteractive('df-20c144eb-f83a-4ac7-9311-bd476ce5e1e3')\"\n",
              "              title=\"Convert this dataframe to an interactive table.\"\n",
              "              style=\"display:none;\">\n",
              "        \n",
              "  <svg xmlns=\"http://www.w3.org/2000/svg\" height=\"24px\"viewBox=\"0 0 24 24\"\n",
              "       width=\"24px\">\n",
              "    <path d=\"M0 0h24v24H0V0z\" fill=\"none\"/>\n",
              "    <path d=\"M18.56 5.44l.94 2.06.94-2.06 2.06-.94-2.06-.94-.94-2.06-.94 2.06-2.06.94zm-11 1L8.5 8.5l.94-2.06 2.06-.94-2.06-.94L8.5 2.5l-.94 2.06-2.06.94zm10 10l.94 2.06.94-2.06 2.06-.94-2.06-.94-.94-2.06-.94 2.06-2.06.94z\"/><path d=\"M17.41 7.96l-1.37-1.37c-.4-.4-.92-.59-1.43-.59-.52 0-1.04.2-1.43.59L10.3 9.45l-7.72 7.72c-.78.78-.78 2.05 0 2.83L4 21.41c.39.39.9.59 1.41.59.51 0 1.02-.2 1.41-.59l7.78-7.78 2.81-2.81c.8-.78.8-2.07 0-2.86zM5.41 20L4 18.59l7.72-7.72 1.47 1.35L5.41 20z\"/>\n",
              "  </svg>\n",
              "      </button>\n",
              "      \n",
              "  <style>\n",
              "    .colab-df-container {\n",
              "      display:flex;\n",
              "      flex-wrap:wrap;\n",
              "      gap: 12px;\n",
              "    }\n",
              "\n",
              "    .colab-df-convert {\n",
              "      background-color: #E8F0FE;\n",
              "      border: none;\n",
              "      border-radius: 50%;\n",
              "      cursor: pointer;\n",
              "      display: none;\n",
              "      fill: #1967D2;\n",
              "      height: 32px;\n",
              "      padding: 0 0 0 0;\n",
              "      width: 32px;\n",
              "    }\n",
              "\n",
              "    .colab-df-convert:hover {\n",
              "      background-color: #E2EBFA;\n",
              "      box-shadow: 0px 1px 2px rgba(60, 64, 67, 0.3), 0px 1px 3px 1px rgba(60, 64, 67, 0.15);\n",
              "      fill: #174EA6;\n",
              "    }\n",
              "\n",
              "    [theme=dark] .colab-df-convert {\n",
              "      background-color: #3B4455;\n",
              "      fill: #D2E3FC;\n",
              "    }\n",
              "\n",
              "    [theme=dark] .colab-df-convert:hover {\n",
              "      background-color: #434B5C;\n",
              "      box-shadow: 0px 1px 3px 1px rgba(0, 0, 0, 0.15);\n",
              "      filter: drop-shadow(0px 1px 2px rgba(0, 0, 0, 0.3));\n",
              "      fill: #FFFFFF;\n",
              "    }\n",
              "  </style>\n",
              "\n",
              "      <script>\n",
              "        const buttonEl =\n",
              "          document.querySelector('#df-20c144eb-f83a-4ac7-9311-bd476ce5e1e3 button.colab-df-convert');\n",
              "        buttonEl.style.display =\n",
              "          google.colab.kernel.accessAllowed ? 'block' : 'none';\n",
              "\n",
              "        async function convertToInteractive(key) {\n",
              "          const element = document.querySelector('#df-20c144eb-f83a-4ac7-9311-bd476ce5e1e3');\n",
              "          const dataTable =\n",
              "            await google.colab.kernel.invokeFunction('convertToInteractive',\n",
              "                                                     [key], {});\n",
              "          if (!dataTable) return;\n",
              "\n",
              "          const docLinkHtml = 'Like what you see? Visit the ' +\n",
              "            '<a target=\"_blank\" href=https://colab.research.google.com/notebooks/data_table.ipynb>data table notebook</a>'\n",
              "            + ' to learn more about interactive tables.';\n",
              "          element.innerHTML = '';\n",
              "          dataTable['output_type'] = 'display_data';\n",
              "          await google.colab.output.renderOutput(dataTable, element);\n",
              "          const docLink = document.createElement('div');\n",
              "          docLink.innerHTML = docLinkHtml;\n",
              "          element.appendChild(docLink);\n",
              "        }\n",
              "      </script>\n",
              "    </div>\n",
              "  </div>\n",
              "  "
            ]
          },
          "metadata": {},
          "execution_count": 24
        }
      ]
    },
    {
      "cell_type": "code",
      "source": [
        "X_test2.drop(X_test2.columns[[0, 1]], axis=1, inplace=True)"
      ],
      "metadata": {
        "id": "cfHeXVVgS5P_"
      },
      "execution_count": null,
      "outputs": []
    },
    {
      "cell_type": "code",
      "source": [
        "X_test2"
      ],
      "metadata": {
        "colab": {
          "base_uri": "https://localhost:8080/",
          "height": 424
        },
        "id": "5HpXYT_wTAvk",
        "outputId": "c5a1386c-8d3c-4879-fcc7-bc87e86bbe5c"
      },
      "execution_count": null,
      "outputs": [
        {
          "output_type": "execute_result",
          "data": {
            "text/plain": [
              "           step    amount  nameOrig  oldbalanceOrg  newbalanceOrig  nameDest  \\\n",
              "0      0.117647  0.000511  0.633661       0.000000        0.000000  0.943033   \n",
              "1      0.272059  0.007822  0.692308       0.000003        0.002087  0.508014   \n",
              "2      0.102941  0.025233  0.835326       0.013893        0.020526  0.839894   \n",
              "3      0.316176  0.003798  0.985839       0.000000        0.000000  0.382144   \n",
              "4      0.242647  0.051813  0.042090       0.000000        0.000000  0.477232   \n",
              "...         ...       ...       ...            ...             ...       ...   \n",
              "29995  1.000000  0.018161  0.009587       0.000000        0.000000  0.670390   \n",
              "29996  0.301471  0.015666  0.435097       0.000000        0.000000  0.785106   \n",
              "29997  0.235294  0.034920  0.159664       0.001435        0.010729  0.397928   \n",
              "29998  0.176471  0.000503  0.978850       0.001620        0.001476  0.878720   \n",
              "29999  0.066176  0.002341  0.185883       0.015012        0.014292  0.923962   \n",
              "\n",
              "       oldbalanceDest  newbalanceDest  \n",
              "0            0.000000        0.000000  \n",
              "1            0.000000        0.000000  \n",
              "2            0.076456        0.061890  \n",
              "3            0.003242        0.004040  \n",
              "4            0.031774        0.047993  \n",
              "...               ...             ...  \n",
              "29995        0.794397        0.769422  \n",
              "29996        0.012633        0.012532  \n",
              "29997        0.001162        0.000000  \n",
              "29998        0.000000        0.000000  \n",
              "29999        0.000000        0.000000  \n",
              "\n",
              "[30000 rows x 8 columns]"
            ],
            "text/html": [
              "\n",
              "  <div id=\"df-ae1a0144-bf54-426b-835f-305fba1b2d6a\">\n",
              "    <div class=\"colab-df-container\">\n",
              "      <div>\n",
              "<style scoped>\n",
              "    .dataframe tbody tr th:only-of-type {\n",
              "        vertical-align: middle;\n",
              "    }\n",
              "\n",
              "    .dataframe tbody tr th {\n",
              "        vertical-align: top;\n",
              "    }\n",
              "\n",
              "    .dataframe thead th {\n",
              "        text-align: right;\n",
              "    }\n",
              "</style>\n",
              "<table border=\"1\" class=\"dataframe\">\n",
              "  <thead>\n",
              "    <tr style=\"text-align: right;\">\n",
              "      <th></th>\n",
              "      <th>step</th>\n",
              "      <th>amount</th>\n",
              "      <th>nameOrig</th>\n",
              "      <th>oldbalanceOrg</th>\n",
              "      <th>newbalanceOrig</th>\n",
              "      <th>nameDest</th>\n",
              "      <th>oldbalanceDest</th>\n",
              "      <th>newbalanceDest</th>\n",
              "    </tr>\n",
              "  </thead>\n",
              "  <tbody>\n",
              "    <tr>\n",
              "      <th>0</th>\n",
              "      <td>0.117647</td>\n",
              "      <td>0.000511</td>\n",
              "      <td>0.633661</td>\n",
              "      <td>0.000000</td>\n",
              "      <td>0.000000</td>\n",
              "      <td>0.943033</td>\n",
              "      <td>0.000000</td>\n",
              "      <td>0.000000</td>\n",
              "    </tr>\n",
              "    <tr>\n",
              "      <th>1</th>\n",
              "      <td>0.272059</td>\n",
              "      <td>0.007822</td>\n",
              "      <td>0.692308</td>\n",
              "      <td>0.000003</td>\n",
              "      <td>0.002087</td>\n",
              "      <td>0.508014</td>\n",
              "      <td>0.000000</td>\n",
              "      <td>0.000000</td>\n",
              "    </tr>\n",
              "    <tr>\n",
              "      <th>2</th>\n",
              "      <td>0.102941</td>\n",
              "      <td>0.025233</td>\n",
              "      <td>0.835326</td>\n",
              "      <td>0.013893</td>\n",
              "      <td>0.020526</td>\n",
              "      <td>0.839894</td>\n",
              "      <td>0.076456</td>\n",
              "      <td>0.061890</td>\n",
              "    </tr>\n",
              "    <tr>\n",
              "      <th>3</th>\n",
              "      <td>0.316176</td>\n",
              "      <td>0.003798</td>\n",
              "      <td>0.985839</td>\n",
              "      <td>0.000000</td>\n",
              "      <td>0.000000</td>\n",
              "      <td>0.382144</td>\n",
              "      <td>0.003242</td>\n",
              "      <td>0.004040</td>\n",
              "    </tr>\n",
              "    <tr>\n",
              "      <th>4</th>\n",
              "      <td>0.242647</td>\n",
              "      <td>0.051813</td>\n",
              "      <td>0.042090</td>\n",
              "      <td>0.000000</td>\n",
              "      <td>0.000000</td>\n",
              "      <td>0.477232</td>\n",
              "      <td>0.031774</td>\n",
              "      <td>0.047993</td>\n",
              "    </tr>\n",
              "    <tr>\n",
              "      <th>...</th>\n",
              "      <td>...</td>\n",
              "      <td>...</td>\n",
              "      <td>...</td>\n",
              "      <td>...</td>\n",
              "      <td>...</td>\n",
              "      <td>...</td>\n",
              "      <td>...</td>\n",
              "      <td>...</td>\n",
              "    </tr>\n",
              "    <tr>\n",
              "      <th>29995</th>\n",
              "      <td>1.000000</td>\n",
              "      <td>0.018161</td>\n",
              "      <td>0.009587</td>\n",
              "      <td>0.000000</td>\n",
              "      <td>0.000000</td>\n",
              "      <td>0.670390</td>\n",
              "      <td>0.794397</td>\n",
              "      <td>0.769422</td>\n",
              "    </tr>\n",
              "    <tr>\n",
              "      <th>29996</th>\n",
              "      <td>0.301471</td>\n",
              "      <td>0.015666</td>\n",
              "      <td>0.435097</td>\n",
              "      <td>0.000000</td>\n",
              "      <td>0.000000</td>\n",
              "      <td>0.785106</td>\n",
              "      <td>0.012633</td>\n",
              "      <td>0.012532</td>\n",
              "    </tr>\n",
              "    <tr>\n",
              "      <th>29997</th>\n",
              "      <td>0.235294</td>\n",
              "      <td>0.034920</td>\n",
              "      <td>0.159664</td>\n",
              "      <td>0.001435</td>\n",
              "      <td>0.010729</td>\n",
              "      <td>0.397928</td>\n",
              "      <td>0.001162</td>\n",
              "      <td>0.000000</td>\n",
              "    </tr>\n",
              "    <tr>\n",
              "      <th>29998</th>\n",
              "      <td>0.176471</td>\n",
              "      <td>0.000503</td>\n",
              "      <td>0.978850</td>\n",
              "      <td>0.001620</td>\n",
              "      <td>0.001476</td>\n",
              "      <td>0.878720</td>\n",
              "      <td>0.000000</td>\n",
              "      <td>0.000000</td>\n",
              "    </tr>\n",
              "    <tr>\n",
              "      <th>29999</th>\n",
              "      <td>0.066176</td>\n",
              "      <td>0.002341</td>\n",
              "      <td>0.185883</td>\n",
              "      <td>0.015012</td>\n",
              "      <td>0.014292</td>\n",
              "      <td>0.923962</td>\n",
              "      <td>0.000000</td>\n",
              "      <td>0.000000</td>\n",
              "    </tr>\n",
              "  </tbody>\n",
              "</table>\n",
              "<p>30000 rows × 8 columns</p>\n",
              "</div>\n",
              "      <button class=\"colab-df-convert\" onclick=\"convertToInteractive('df-ae1a0144-bf54-426b-835f-305fba1b2d6a')\"\n",
              "              title=\"Convert this dataframe to an interactive table.\"\n",
              "              style=\"display:none;\">\n",
              "        \n",
              "  <svg xmlns=\"http://www.w3.org/2000/svg\" height=\"24px\"viewBox=\"0 0 24 24\"\n",
              "       width=\"24px\">\n",
              "    <path d=\"M0 0h24v24H0V0z\" fill=\"none\"/>\n",
              "    <path d=\"M18.56 5.44l.94 2.06.94-2.06 2.06-.94-2.06-.94-.94-2.06-.94 2.06-2.06.94zm-11 1L8.5 8.5l.94-2.06 2.06-.94-2.06-.94L8.5 2.5l-.94 2.06-2.06.94zm10 10l.94 2.06.94-2.06 2.06-.94-2.06-.94-.94-2.06-.94 2.06-2.06.94z\"/><path d=\"M17.41 7.96l-1.37-1.37c-.4-.4-.92-.59-1.43-.59-.52 0-1.04.2-1.43.59L10.3 9.45l-7.72 7.72c-.78.78-.78 2.05 0 2.83L4 21.41c.39.39.9.59 1.41.59.51 0 1.02-.2 1.41-.59l7.78-7.78 2.81-2.81c.8-.78.8-2.07 0-2.86zM5.41 20L4 18.59l7.72-7.72 1.47 1.35L5.41 20z\"/>\n",
              "  </svg>\n",
              "      </button>\n",
              "      \n",
              "  <style>\n",
              "    .colab-df-container {\n",
              "      display:flex;\n",
              "      flex-wrap:wrap;\n",
              "      gap: 12px;\n",
              "    }\n",
              "\n",
              "    .colab-df-convert {\n",
              "      background-color: #E8F0FE;\n",
              "      border: none;\n",
              "      border-radius: 50%;\n",
              "      cursor: pointer;\n",
              "      display: none;\n",
              "      fill: #1967D2;\n",
              "      height: 32px;\n",
              "      padding: 0 0 0 0;\n",
              "      width: 32px;\n",
              "    }\n",
              "\n",
              "    .colab-df-convert:hover {\n",
              "      background-color: #E2EBFA;\n",
              "      box-shadow: 0px 1px 2px rgba(60, 64, 67, 0.3), 0px 1px 3px 1px rgba(60, 64, 67, 0.15);\n",
              "      fill: #174EA6;\n",
              "    }\n",
              "\n",
              "    [theme=dark] .colab-df-convert {\n",
              "      background-color: #3B4455;\n",
              "      fill: #D2E3FC;\n",
              "    }\n",
              "\n",
              "    [theme=dark] .colab-df-convert:hover {\n",
              "      background-color: #434B5C;\n",
              "      box-shadow: 0px 1px 3px 1px rgba(0, 0, 0, 0.15);\n",
              "      filter: drop-shadow(0px 1px 2px rgba(0, 0, 0, 0.3));\n",
              "      fill: #FFFFFF;\n",
              "    }\n",
              "  </style>\n",
              "\n",
              "      <script>\n",
              "        const buttonEl =\n",
              "          document.querySelector('#df-ae1a0144-bf54-426b-835f-305fba1b2d6a button.colab-df-convert');\n",
              "        buttonEl.style.display =\n",
              "          google.colab.kernel.accessAllowed ? 'block' : 'none';\n",
              "\n",
              "        async function convertToInteractive(key) {\n",
              "          const element = document.querySelector('#df-ae1a0144-bf54-426b-835f-305fba1b2d6a');\n",
              "          const dataTable =\n",
              "            await google.colab.kernel.invokeFunction('convertToInteractive',\n",
              "                                                     [key], {});\n",
              "          if (!dataTable) return;\n",
              "\n",
              "          const docLinkHtml = 'Like what you see? Visit the ' +\n",
              "            '<a target=\"_blank\" href=https://colab.research.google.com/notebooks/data_table.ipynb>data table notebook</a>'\n",
              "            + ' to learn more about interactive tables.';\n",
              "          element.innerHTML = '';\n",
              "          dataTable['output_type'] = 'display_data';\n",
              "          await google.colab.output.renderOutput(dataTable, element);\n",
              "          const docLink = document.createElement('div');\n",
              "          docLink.innerHTML = docLinkHtml;\n",
              "          element.appendChild(docLink);\n",
              "        }\n",
              "      </script>\n",
              "    </div>\n",
              "  </div>\n",
              "  "
            ]
          },
          "metadata": {},
          "execution_count": 27
        }
      ]
    },
    {
      "cell_type": "code",
      "source": [
        "y_train2"
      ],
      "metadata": {
        "colab": {
          "base_uri": "https://localhost:8080/"
        },
        "id": "9tPnrYFipBiR",
        "outputId": "30099e65-399f-4d78-d013-42e18b6fa5ec"
      },
      "execution_count": null,
      "outputs": [
        {
          "output_type": "execute_result",
          "data": {
            "text/plain": [
              "0         0.0\n",
              "1         0.0\n",
              "2         0.0\n",
              "3         0.0\n",
              "4         0.0\n",
              "         ... \n",
              "139805    1.0\n",
              "139806    1.0\n",
              "139807    1.0\n",
              "139808    1.0\n",
              "139809    1.0\n",
              "Name: isFraud, Length: 139810, dtype: float64"
            ]
          },
          "metadata": {},
          "execution_count": 18
        }
      ]
    },
    {
      "cell_type": "code",
      "source": [
        "from sklearn.metrics import accuracy_score\n",
        "from deepforest import CascadeForestClassifier\n",
        "model_d = CascadeForestClassifier()\n",
        "model_d.fit(X_train2, y_train2)\n",
        "y_pred_d = model_d.predict(X_test2)\n",
        "acc_d = accuracy_score(y_test2, y_pred_d) * 100\n",
        "print(\"\\nTesting Accuracy: {:.3f} %\".format(acc_d))\n"
      ],
      "metadata": {
        "colab": {
          "base_uri": "https://localhost:8080/"
        },
        "id": "vJSx48NWnobv",
        "outputId": "6f18ed1b-5e2c-4603-eefc-2ab8855f519b"
      },
      "execution_count": null,
      "outputs": [
        {
          "output_type": "stream",
          "name": "stdout",
          "text": [
            "[2022-11-12 10:10:37.610] Start to fit the model:\n",
            "[2022-11-12 10:10:37.611] Fitting cascade layer = 0 \n",
            "[2022-11-12 10:11:12.708] layer = 0  | Val Acc = 99.945 % | Elapsed = 35.098 s\n",
            "[2022-11-12 10:11:12.817] Fitting cascade layer = 1 \n",
            "[2022-11-12 10:11:29.365] layer = 1  | Val Acc = 99.981 % | Elapsed = 16.547 s\n",
            "[2022-11-12 10:11:29.434] Fitting cascade layer = 2 \n",
            "[2022-11-12 10:11:48.558] layer = 2  | Val Acc = 99.979 % | Elapsed = 19.125 s\n",
            "[2022-11-12 10:11:48.559] Early stopping counter: 1 out of 2\n",
            "[2022-11-12 10:11:48.625] Fitting cascade layer = 3 \n",
            "[2022-11-12 10:12:09.551] layer = 3  | Val Acc = 99.976 % | Elapsed = 20.927 s\n",
            "[2022-11-12 10:12:09.553] Early stopping counter: 2 out of 2\n",
            "[2022-11-12 10:12:09.553] Handling early stopping\n",
            "[2022-11-12 10:12:09.554] The optimal number of layers: 2\n",
            "[2022-11-12 10:12:09.560] Start to evalute the model:\n",
            "[2022-11-12 10:12:09.576] Evaluating cascade layer = 0 \n",
            "[2022-11-12 10:12:10.643] Evaluating cascade layer = 1 \n",
            "\n",
            "Testing Accuracy: 99.903 %\n"
          ]
        }
      ]
    },
    {
      "cell_type": "code",
      "source": [
        "from sklearn.metrics import roc_auc_score\n",
        "prob = model_d.predict_proba(X_test2)[::,1]\n",
        "roc_auc_score(y_test2,prob)"
      ],
      "metadata": {
        "colab": {
          "base_uri": "https://localhost:8080/"
        },
        "id": "QwzLY-AoTrB3",
        "outputId": "79174bea-b266-4741-c755-9bb6bbf95487"
      },
      "execution_count": null,
      "outputs": [
        {
          "output_type": "stream",
          "name": "stdout",
          "text": [
            "[2022-11-12 10:12:17.503] Start to evalute the model:\n",
            "[2022-11-12 10:12:17.522] Evaluating cascade layer = 0 \n",
            "[2022-11-12 10:12:18.621] Evaluating cascade layer = 1 \n"
          ]
        },
        {
          "output_type": "execute_result",
          "data": {
            "text/plain": [
              "0.911484479305741"
            ]
          },
          "metadata": {},
          "execution_count": 29
        }
      ]
    },
    {
      "cell_type": "code",
      "source": [
        "from sklearn.metrics import  classification_report, confusion_matrix\n",
        "y_pred_d = model_d.predict(X_test2)\n",
        "print('Classifcation report:\\n', classification_report(y_test2, y_pred_d))\n",
        "conf_mat = confusion_matrix(y_true=y_test2, y_pred=y_pred_d)\n",
        "print('Confusion matrix:\\n', conf_mat)"
      ],
      "metadata": {
        "colab": {
          "base_uri": "https://localhost:8080/"
        },
        "id": "0_BNPa0jTzaD",
        "outputId": "6c674b78-b7a0-46cf-e520-90f49ad18f0d"
      },
      "execution_count": null,
      "outputs": [
        {
          "output_type": "stream",
          "name": "stdout",
          "text": [
            "[2022-11-12 10:12:19.007] Start to evalute the model:\n",
            "[2022-11-12 10:12:19.024] Evaluating cascade layer = 0 \n",
            "[2022-11-12 10:12:20.078] Evaluating cascade layer = 1 \n",
            "Classifcation report:\n",
            "               precision    recall  f1-score   support\n",
            "\n",
            "         0.0       1.00      1.00      1.00     29960\n",
            "         1.0       0.74      0.42      0.54        40\n",
            "\n",
            "    accuracy                           1.00     30000\n",
            "   macro avg       0.87      0.71      0.77     30000\n",
            "weighted avg       1.00      1.00      1.00     30000\n",
            "\n",
            "Confusion matrix:\n",
            " [[29954     6]\n",
            " [   23    17]]\n"
          ]
        }
      ]
    },
    {
      "cell_type": "code",
      "source": [
        "from sklearn.metrics import accuracy_score\n",
        "from deepforest import CascadeForestClassifier\n",
        "model_d2 = CascadeForestClassifier(random_state=1)\n",
        "model_d2.fit(X_train2, y_train2)\n",
        "y_pred_d2 = model_d2.predict(X_test2)\n",
        "acc_d2 = accuracy_score(y_test2, y_pred_d) * 100\n",
        "print(\"\\nTesting Accuracy: {:.3f} %\".format(acc_d2))\n"
      ],
      "metadata": {
        "id": "ZwI8BQTpn3gR"
      },
      "execution_count": null,
      "outputs": []
    },
    {
      "cell_type": "code",
      "source": [
        "%%shell\n",
        "jupyter nbconvert --to html /content/Deep_Forest.ipynb"
      ],
      "metadata": {
        "id": "AOBW3PHMqhFU",
        "colab": {
          "base_uri": "https://localhost:8080/"
        },
        "outputId": "c8c197ec-9929-4067-ae83-5b4fa94efcf8"
      },
      "execution_count": null,
      "outputs": [
        {
          "output_type": "stream",
          "name": "stdout",
          "text": [
            "[NbConvertApp] Converting notebook /content/Deep_Forest.ipynb to html\n",
            "[NbConvertApp] Writing 848576 bytes to /content/Deep_Forest.html\n"
          ]
        },
        {
          "output_type": "execute_result",
          "data": {
            "text/plain": []
          },
          "metadata": {},
          "execution_count": 1
        }
      ]
    },
    {
      "cell_type": "code",
      "source": [],
      "metadata": {
        "id": "e-uPoBkQTNJ9"
      },
      "execution_count": null,
      "outputs": []
    },
    {
      "cell_type": "markdown",
      "source": [
        "# Credit card dataset with XGBOOST, LIGHTGBM"
      ],
      "metadata": {
        "id": "W6BQlKFyDepy"
      }
    },
    {
      "cell_type": "code",
      "source": [
        "model = CascadeForestClassifier(random_state=1,predictor='xgboost')\n",
        "model.fit(X_train, y_train)\n",
        "y_pred = model.predict(X_test)\n",
        "acc = accuracy_score(y_test, y_pred) * 100\n",
        "print(\"\\nTesting Accuracy: {:.3f} %\".format(acc))\n"
      ],
      "metadata": {
        "colab": {
          "base_uri": "https://localhost:8080/"
        },
        "id": "ICktN-UjDho_",
        "outputId": "411225b6-7e50-49f5-bd7a-7742b00cf25b"
      },
      "execution_count": null,
      "outputs": [
        {
          "output_type": "stream",
          "name": "stdout",
          "text": [
            "[2022-12-14 11:50:37.044] Start to fit the model:\n",
            "[2022-12-14 11:50:37.044] Fitting cascade layer = 0 \n",
            "[2022-12-14 11:52:44.750] layer = 0  | Val Acc = 99.957 % | Elapsed = 127.705 s\n",
            "[2022-12-14 11:52:44.868] Fitting cascade layer = 1 \n",
            "[2022-12-14 11:54:26.291] layer = 1  | Val Acc = 99.960 % | Elapsed = 101.423 s\n",
            "[2022-12-14 11:54:26.399] Fitting cascade layer = 2 \n",
            "[2022-12-14 11:56:07.312] layer = 2  | Val Acc = 99.959 % | Elapsed = 100.912 s\n",
            "[2022-12-14 11:56:07.312] Early stopping counter: 1 out of 2\n",
            "[2022-12-14 11:56:07.422] Fitting cascade layer = 3 \n",
            "[2022-12-14 11:57:48.270] layer = 3  | Val Acc = 99.960 % | Elapsed = 100.848 s\n",
            "[2022-12-14 11:57:48.270] Early stopping counter: 2 out of 2\n",
            "[2022-12-14 11:57:48.271] Handling early stopping\n",
            "[2022-12-14 11:57:48.273] The optimal number of layers: 2\n",
            "[2022-12-14 11:57:48.281] Start to evalute the model:\n",
            "[2022-12-14 11:57:48.412] Evaluating cascade layer = 0 \n",
            "[2022-12-14 11:57:50.468] Evaluating cascade layer = 1 \n",
            "\n",
            "Testing Accuracy: 99.947 %\n"
          ]
        }
      ]
    },
    {
      "cell_type": "code",
      "source": [
        "from sklearn.metrics import  classification_report, confusion_matrix\n",
        "y_pred = model.predict(X_test)\n",
        "print('Classifcation report:\\n', classification_report(y_test, y_pred))\n",
        "conf_mat = confusion_matrix(y_true=y_test, y_pred=y_pred)\n",
        "print('Confusion matrix:\\n', conf_mat)"
      ],
      "metadata": {
        "colab": {
          "base_uri": "https://localhost:8080/"
        },
        "id": "Np1Jq2yteNvo",
        "outputId": "87c46c4a-9a38-4411-cadb-1f7ae31d8669"
      },
      "execution_count": null,
      "outputs": [
        {
          "output_type": "stream",
          "name": "stdout",
          "text": [
            "[2022-12-14 11:57:52.627] Start to evalute the model:\n",
            "[2022-12-14 11:57:52.762] Evaluating cascade layer = 0 \n",
            "[2022-12-14 11:57:54.995] Evaluating cascade layer = 1 \n",
            "Classifcation report:\n",
            "               precision    recall  f1-score   support\n",
            "\n",
            "           0       1.00      1.00      1.00     71075\n",
            "           1       0.89      0.80      0.84       127\n",
            "\n",
            "    accuracy                           1.00     71202\n",
            "   macro avg       0.95      0.90      0.92     71202\n",
            "weighted avg       1.00      1.00      1.00     71202\n",
            "\n",
            "Confusion matrix:\n",
            " [[71063    12]\n",
            " [   26   101]]\n"
          ]
        }
      ]
    },
    {
      "cell_type": "code",
      "source": [],
      "metadata": {
        "id": "THizCtjpeDTX"
      },
      "execution_count": null,
      "outputs": []
    },
    {
      "cell_type": "code",
      "source": [
        "model2 = CascadeForestClassifier(random_state=1,predictor='lightgbm')\n",
        "model2.fit(X_train, y_train)\n",
        "y_pred2 = model2.predict(X_test)\n",
        "acc2 = accuracy_score(y_test, y_pred2) * 100\n",
        "print(\"\\nTesting Accuracy: {:.3f} %\".format(acc2))\n"
      ],
      "metadata": {
        "colab": {
          "base_uri": "https://localhost:8080/"
        },
        "id": "jkIYbUFCL_t2",
        "outputId": "b4888961-d547-4e67-d366-3a6c4108c886"
      },
      "execution_count": null,
      "outputs": [
        {
          "output_type": "stream",
          "name": "stdout",
          "text": [
            "[2022-12-14 12:22:01.626] Start to fit the model:\n",
            "[2022-12-14 12:22:01.626] Fitting cascade layer = 0 \n",
            "[2022-12-14 12:24:06.994] layer = 0  | Val Acc = 99.957 % | Elapsed = 125.367 s\n",
            "[2022-12-14 12:24:07.157] Fitting cascade layer = 1 \n",
            "[2022-12-14 12:25:51.744] layer = 1  | Val Acc = 99.960 % | Elapsed = 104.588 s\n",
            "[2022-12-14 12:25:51.850] Fitting cascade layer = 2 \n",
            "[2022-12-14 12:27:33.213] layer = 2  | Val Acc = 99.959 % | Elapsed = 101.363 s\n",
            "[2022-12-14 12:27:33.214] Early stopping counter: 1 out of 2\n",
            "[2022-12-14 12:27:33.319] Fitting cascade layer = 3 \n",
            "[2022-12-14 12:29:12.435] layer = 3  | Val Acc = 99.960 % | Elapsed = 99.116 s\n",
            "[2022-12-14 12:29:12.435] Early stopping counter: 2 out of 2\n",
            "[2022-12-14 12:29:12.435] Handling early stopping\n",
            "[2022-12-14 12:29:12.436] The optimal number of layers: 2\n",
            "[2022-12-14 12:29:12.445] Start to evalute the model:\n",
            "[2022-12-14 12:29:12.587] Evaluating cascade layer = 0 \n",
            "[2022-12-14 12:29:14.636] Evaluating cascade layer = 1 \n",
            "\n",
            "Testing Accuracy: 99.947 %\n"
          ]
        }
      ]
    },
    {
      "cell_type": "code",
      "source": [
        "from sklearn.metrics import  classification_report, confusion_matrix\n",
        "y_pred2 = model2.predict(X_test)\n",
        "print('Classifcation report:\\n', classification_report(y_test, y_pred2))\n",
        "conf_mat = confusion_matrix(y_true=y_test, y_pred=y_pred2)\n",
        "print('Confusion matrix:\\n', conf_mat)"
      ],
      "metadata": {
        "colab": {
          "base_uri": "https://localhost:8080/"
        },
        "id": "TtfHqut_lvda",
        "outputId": "dc302533-d745-4240-b2c3-11c7f6e72e7f"
      },
      "execution_count": null,
      "outputs": [
        {
          "output_type": "stream",
          "name": "stdout",
          "text": [
            "[2022-12-14 12:30:20.330] Start to evalute the model:\n",
            "[2022-12-14 12:30:20.476] Evaluating cascade layer = 0 \n",
            "[2022-12-14 12:30:22.466] Evaluating cascade layer = 1 \n",
            "Classifcation report:\n",
            "               precision    recall  f1-score   support\n",
            "\n",
            "           0       1.00      1.00      1.00     71075\n",
            "           1       0.89      0.80      0.84       127\n",
            "\n",
            "    accuracy                           1.00     71202\n",
            "   macro avg       0.95      0.90      0.92     71202\n",
            "weighted avg       1.00      1.00      1.00     71202\n",
            "\n",
            "Confusion matrix:\n",
            " [[71063    12]\n",
            " [   26   101]]\n"
          ]
        }
      ]
    },
    {
      "cell_type": "code",
      "source": [
        "model3 = CascadeForestClassifier(random_state=1,predictor='forest')\n",
        "model3.fit(X_train, y_train)\n",
        "y_pred3 = model3.predict(X_test)\n",
        "acc3 = accuracy_score(y_test, y_pred3) * 100\n",
        "print(\"\\nTesting Accuracy: {:.3f} %\".format(acc3))\n"
      ],
      "metadata": {
        "colab": {
          "base_uri": "https://localhost:8080/"
        },
        "id": "UICLpHIuE3ca",
        "outputId": "cef8f1f4-7613-4909-e34d-1c62c507702f"
      },
      "execution_count": null,
      "outputs": [
        {
          "output_type": "stream",
          "name": "stdout",
          "text": [
            "[2022-12-14 12:30:33.431] Start to fit the model:\n",
            "[2022-12-14 12:30:33.432] Fitting cascade layer = 0 \n",
            "[2022-12-14 12:32:31.828] layer = 0  | Val Acc = 99.957 % | Elapsed = 118.396 s\n",
            "[2022-12-14 12:32:31.947] Fitting cascade layer = 1 \n",
            "[2022-12-14 12:34:10.961] layer = 1  | Val Acc = 99.960 % | Elapsed = 99.014 s\n",
            "[2022-12-14 12:34:11.074] Fitting cascade layer = 2 \n",
            "[2022-12-14 12:35:46.467] layer = 2  | Val Acc = 99.959 % | Elapsed = 95.393 s\n",
            "[2022-12-14 12:35:46.467] Early stopping counter: 1 out of 2\n",
            "[2022-12-14 12:35:46.581] Fitting cascade layer = 3 \n",
            "[2022-12-14 12:37:24.178] layer = 3  | Val Acc = 99.960 % | Elapsed = 97.596 s\n",
            "[2022-12-14 12:37:24.178] Early stopping counter: 2 out of 2\n",
            "[2022-12-14 12:37:24.178] Handling early stopping\n",
            "[2022-12-14 12:37:24.179] The optimal number of layers: 2\n",
            "[2022-12-14 12:37:24.187] Start to evalute the model:\n",
            "[2022-12-14 12:37:24.318] Evaluating cascade layer = 0 \n",
            "[2022-12-14 12:37:26.339] Evaluating cascade layer = 1 \n",
            "\n",
            "Testing Accuracy: 99.947 %\n"
          ]
        }
      ]
    },
    {
      "cell_type": "code",
      "source": [
        "from sklearn.metrics import  classification_report, confusion_matrix\n",
        "y_pred3 = model3.predict(X_test)\n",
        "print('Classifcation report:\\n', classification_report(y_test, y_pred3))\n",
        "conf_mat = confusion_matrix(y_true=y_test, y_pred=y_pred3)\n",
        "print('Confusion matrix:\\n', conf_mat)"
      ],
      "metadata": {
        "colab": {
          "base_uri": "https://localhost:8080/"
        },
        "id": "xu0Wr6O8l6uT",
        "outputId": "992b15c6-c922-4914-afd7-f8c0e1c25193"
      },
      "execution_count": null,
      "outputs": [
        {
          "output_type": "stream",
          "name": "stdout",
          "text": [
            "[2022-12-14 12:37:29.769] Start to evalute the model:\n",
            "[2022-12-14 12:37:29.937] Evaluating cascade layer = 0 \n",
            "[2022-12-14 12:37:32.091] Evaluating cascade layer = 1 \n",
            "Classifcation report:\n",
            "               precision    recall  f1-score   support\n",
            "\n",
            "           0       1.00      1.00      1.00     71075\n",
            "           1       0.89      0.80      0.84       127\n",
            "\n",
            "    accuracy                           1.00     71202\n",
            "   macro avg       0.95      0.90      0.92     71202\n",
            "weighted avg       1.00      1.00      1.00     71202\n",
            "\n",
            "Confusion matrix:\n",
            " [[71063    12]\n",
            " [   26   101]]\n"
          ]
        }
      ]
    },
    {
      "cell_type": "code",
      "source": [
        "model4 = CascadeForestClassifier(random_state=1)\n",
        "model4.fit(X_train, y_train)\n",
        "y_pred4 = model4.predict(X_test)\n",
        "acc4 = accuracy_score(y_test, y_pred4) * 100\n",
        "print(\"\\nTesting Accuracy: {:.3f} %\".format(acc4))\n"
      ],
      "metadata": {
        "colab": {
          "base_uri": "https://localhost:8080/"
        },
        "id": "46V9nmftOSqV",
        "outputId": "ed6785b4-3cd4-4384-c7cc-29b8ce130621"
      },
      "execution_count": null,
      "outputs": [
        {
          "output_type": "stream",
          "name": "stdout",
          "text": [
            "[2022-12-14 12:53:26.551] Start to fit the model:\n",
            "[2022-12-14 12:53:26.552] Fitting cascade layer = 0 \n",
            "[2022-12-14 12:55:09.427] layer = 0  | Val Acc = 99.957 % | Elapsed = 102.875 s\n",
            "[2022-12-14 12:55:09.549] Fitting cascade layer = 1 \n",
            "[2022-12-14 12:56:45.504] layer = 1  | Val Acc = 99.960 % | Elapsed = 95.955 s\n",
            "[2022-12-14 12:56:45.609] Fitting cascade layer = 2 \n",
            "[2022-12-14 12:58:22.490] layer = 2  | Val Acc = 99.959 % | Elapsed = 96.881 s\n",
            "[2022-12-14 12:58:22.491] Early stopping counter: 1 out of 2\n",
            "[2022-12-14 12:58:22.598] Fitting cascade layer = 3 \n",
            "[2022-12-14 12:59:57.327] layer = 3  | Val Acc = 99.960 % | Elapsed = 94.728 s\n",
            "[2022-12-14 12:59:57.327] Early stopping counter: 2 out of 2\n",
            "[2022-12-14 12:59:57.327] Handling early stopping\n",
            "[2022-12-14 12:59:57.328] The optimal number of layers: 2\n",
            "[2022-12-14 12:59:57.336] Start to evalute the model:\n",
            "[2022-12-14 12:59:57.466] Evaluating cascade layer = 0 \n",
            "[2022-12-14 12:59:59.448] Evaluating cascade layer = 1 \n",
            "\n",
            "Testing Accuracy: 99.947 %\n"
          ]
        }
      ]
    },
    {
      "cell_type": "code",
      "source": [
        "from sklearn.metrics import  classification_report, confusion_matrix\n",
        "y_pred4 = model4.predict(X_test)\n",
        "print('Classifcation report:\\n', classification_report(y_test, y_pred4))\n",
        "conf_mat = confusion_matrix(y_true=y_test, y_pred=y_pred4)\n",
        "print('Confusion matrix:\\n', conf_mat)"
      ],
      "metadata": {
        "colab": {
          "base_uri": "https://localhost:8080/"
        },
        "id": "wzILfk_KQpJM",
        "outputId": "e37a32be-ae7c-4b02-8473-c4c1b212ea33"
      },
      "execution_count": null,
      "outputs": [
        {
          "output_type": "stream",
          "name": "stdout",
          "text": [
            "[2022-12-14 13:00:01.507] Start to evalute the model:\n",
            "[2022-12-14 13:00:01.645] Evaluating cascade layer = 0 \n",
            "[2022-12-14 13:00:03.637] Evaluating cascade layer = 1 \n",
            "Classifcation report:\n",
            "               precision    recall  f1-score   support\n",
            "\n",
            "           0       1.00      1.00      1.00     71075\n",
            "           1       0.89      0.80      0.84       127\n",
            "\n",
            "    accuracy                           1.00     71202\n",
            "   macro avg       0.95      0.90      0.92     71202\n",
            "weighted avg       1.00      1.00      1.00     71202\n",
            "\n",
            "Confusion matrix:\n",
            " [[71063    12]\n",
            " [   26   101]]\n"
          ]
        }
      ]
    },
    {
      "cell_type": "code",
      "source": [],
      "metadata": {
        "id": "j44WocBxnifi"
      },
      "execution_count": null,
      "outputs": []
    }
  ]
}